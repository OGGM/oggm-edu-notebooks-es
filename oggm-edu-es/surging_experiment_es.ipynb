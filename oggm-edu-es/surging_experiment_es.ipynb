{
 "cells": [
  {
   "cell_type": "markdown",
   "metadata": {},
   "source": [
    "# Experimentos de levantamiento de glaciares"
   ]
  },
  {
   "cell_type": "markdown",
   "metadata": {},
   "source": [
    "Objetivos de este cuaderno:\n",
    "- Aprenda a configurar un glaciar creciente usando OGGM-Edu.\n",
    "- Comprender y describir los efectos del levantamiento de los glaciares."
   ]
  },
  {
   "cell_type": "markdown",
   "metadata": {},
   "source": [
    "En este cuaderno vamos a explorar los glaciares emergentes y cómo podemos experimentar con ellos usando OGGM-Edu."
   ]
  },
  {
   "cell_type": "markdown",
   "metadata": {},
   "source": [
    "**¿Qué es un oleaje glaciar?**\n",
    "Un pequeño porcentaje de glaciares experimenta períodos cortos de flujo más rápido. Experimentan un cambio en la morfología y características de la superficie, lo que en ocasiones conduce a un marcado avance frontal. La velocidad del hielo aumenta hasta 10 - 1000 veces la velocidad normal. Se observan caudales récord con velocidades que superan los 100 m por día. Las sobretensiones ocurren en ciclos decenales y pueden durar de 1 a 15 años.[(Jiskoot, 2011)](https://www.springer.com/la/book/9789048126415)"
   ]
  },
  {
   "cell_type": "markdown",
   "metadata": {},
   "source": [
    "Comenzamos con la importación de las clases necesarias:"
   ]
  },
  {
   "cell_type": "code",
   "execution_count": null,
   "metadata": {},
   "outputs": [],
   "source": [
    "from oggm_edu import SurgingGlacier, Glacier, GlacierBed, MassBalance, GlacierCollection"
   ]
  },
  {
   "cell_type": "markdown",
   "metadata": {},
   "source": [
    "## Lo esencial"
   ]
  },
  {
   "cell_type": "markdown",
   "metadata": {},
   "source": [
    "Establecimos un glaciar con un lecho de roca lineal y ancho variable (ver [edu_intro](edu_intro_es.ipynb)) como escenario para nuestro experimento."
   ]
  },
  {
   "cell_type": "code",
   "execution_count": null,
   "metadata": {},
   "outputs": [],
   "source": [
    "# Bed and mass balance\n",
    "bed = GlacierBed(altitudes=[3400, 3000, 2500, 1500],\n",
    "                 widths=[500, 400, 300, 300])\n",
    "mass_balance = MassBalance(ela=2900, gradient=4)"
   ]
  },
  {
   "cell_type": "code",
   "execution_count": null,
   "metadata": {},
   "outputs": [],
   "source": [
    "bed.plot()"
   ]
  },
  {
   "cell_type": "markdown",
   "metadata": {},
   "source": [
    "Entonces podemos definir un glaciar creciente usando la clase `SurgingGlacier`"
   ]
  },
  {
   "cell_type": "code",
   "execution_count": null,
   "metadata": {},
   "outputs": [],
   "source": [
    "surging_glacier = SurgingGlacier(bed=bed, mass_balance=mass_balance)"
   ]
  },
  {
   "cell_type": "markdown",
   "metadata": {},
   "source": [
    "El glaciar creciente es esencialmente lo mismo que un `Glaciar` pero con algunos atributos adicionales, a saber, `.normal_years`, `.surging_years` y `.basal_sliding_surge`.\n",
    "Por defecto, estos están configurados en 50 años sin aumento y 5 años con aumento, con un deslizamiento basal durante un aumento 10 veces mayor que cuando no hay aumento.\n",
    "El usuario puede cambiarlos fácilmente después de la inicialización.\n",
    "También hay algunos cambios en el funcionamiento de la progresión, y **no es posible** hacer progresar un glaciar creciente hasta el equilibrio."
   ]
  },
  {
   "cell_type": "code",
   "execution_count": null,
   "metadata": {},
   "outputs": [],
   "source": [
    "surging_glacier.normal_years"
   ]
  },
  {
   "cell_type": "code",
   "execution_count": null,
   "metadata": {},
   "outputs": [],
   "source": [
    "surging_glacier.surging_years"
   ]
  },
  {
   "cell_type": "code",
   "execution_count": null,
   "metadata": {},
   "outputs": [],
   "source": [
    "# The surging periodicity is also presented in the representation.\n",
    "surging_glacier"
   ]
  },
  {
   "cell_type": "code",
   "execution_count": null,
   "metadata": {},
   "outputs": [],
   "source": [
    "surging_glacier.basal_sliding"
   ]
  },
  {
   "cell_type": "code",
   "execution_count": null,
   "metadata": {},
   "outputs": [],
   "source": [
    "surging_glacier.basal_sliding_surge"
   ]
  },
  {
   "cell_type": "markdown",
   "metadata": {},
   "source": [
    "Cuando progresemos en este glaciar, el deslizamiento basal aumentará cada 50 años, lo que resultará en un aumento del flujo de hielo.\n",
    "Para obtener más información sobre los parámetros de flujo de hielo, eche un vistazo a este [notebook](ice_flow_parameters_es.ipynb)."
   ]
  },
  {
   "cell_type": "code",
   "execution_count": null,
   "metadata": {},
   "outputs": [],
   "source": [
    "surging_glacier.progress_to_year(400)"
   ]
  },
  {
   "cell_type": "code",
   "execution_count": null,
   "metadata": {},
   "outputs": [],
   "source": [
    "surging_glacier.plot_history()"
   ]
  },
  {
   "cell_type": "markdown",
   "metadata": {},
   "source": [
    "En el gráfico de arriba podemos distinguir los períodos de aumento como una rápida expansión tanto en longitud como en área (también marcados en naranja)."
   ]
  },
  {
   "cell_type": "code",
   "execution_count": null,
   "metadata": {},
   "outputs": [],
   "source": [
    "surging_glacier.plot()"
   ]
  },
  {
   "cell_type": "markdown",
   "metadata": {},
   "source": [
    "## Experimento de glaciar creciente"
   ]
  },
  {
   "cell_type": "markdown",
   "metadata": {},
   "source": [
    "Podemos comparar esto con un glaciar que no crece.\n",
    "Para ello volveremos a emplear la colección glaciar."
   ]
  },
  {
   "cell_type": "code",
   "execution_count": null,
   "metadata": {},
   "outputs": [],
   "source": [
    "# Create a \"normal\" glacier based on the same bed and mass balance\n",
    "glacier = Glacier(bed=bed, mass_balance=mass_balance)"
   ]
  },
  {
   "cell_type": "code",
   "execution_count": null,
   "metadata": {},
   "outputs": [],
   "source": [
    "collection = GlacierCollection()\n",
    "# Add the two glaciers to the collection\n",
    "collection.add([surging_glacier, glacier])"
   ]
  },
  {
   "cell_type": "code",
   "execution_count": null,
   "metadata": {},
   "outputs": [],
   "source": [
    "# Make sure the glaciers are the same age\n",
    "collection.progress_to_year(400)"
   ]
  },
  {
   "cell_type": "code",
   "execution_count": null,
   "metadata": {},
   "outputs": [],
   "source": [
    "collection.plot_history()"
   ]
  },
  {
   "cell_type": "code",
   "execution_count": null,
   "metadata": {},
   "outputs": [],
   "source": [
    "collection.plot()"
   ]
  },
  {
   "cell_type": "code",
   "execution_count": null,
   "metadata": {},
   "outputs": [],
   "source": [
    "collection"
   ]
  },
  {
   "cell_type": "markdown",
   "metadata": {},
   "source": [
    "<div class=\"alerta alerta-éxito\">\n",
    "<b>Compara los diferentes tipos de glaciares. ¿Puedes explicar las diferencias? </b>\n",
    "</div>"
   ]
  },
  {
   "cell_type": "markdown",
   "metadata": {},
   "source": [
    "A continuación, podemos crear un glaciar con un oleaje más fuerte, agregarlo a la colección y compararlo con los dos glaciares anteriores."
   ]
  },
  {
   "cell_type": "code",
   "execution_count": null,
   "metadata": {},
   "outputs": [],
   "source": [
    "surging_glacier_strong = SurgingGlacier(bed=bed, mass_balance=mass_balance)"
   ]
  },
  {
   "cell_type": "code",
   "execution_count": null,
   "metadata": {},
   "outputs": [],
   "source": [
    "surging_glacier_strong.basal_sliding_surge = 5.7e-20 * 50"
   ]
  },
  {
   "cell_type": "code",
   "execution_count": null,
   "metadata": {},
   "outputs": [],
   "source": [
    "collection.add(surging_glacier_strong)"
   ]
  },
  {
   "cell_type": "code",
   "execution_count": null,
   "metadata": {},
   "outputs": [],
   "source": [
    "collection.progress_to_year(400)"
   ]
  },
  {
   "cell_type": "code",
   "execution_count": null,
   "metadata": {},
   "outputs": [],
   "source": [
    "collection"
   ]
  },
  {
   "cell_type": "code",
   "execution_count": null,
   "metadata": {},
   "outputs": [],
   "source": [
    "collection.plot_history()"
   ]
  },
  {
   "cell_type": "markdown",
   "metadata": {},
   "source": [
    "<div class=\"alerta alerta-éxito\">\n",
    "<detalles>\n",
    "<resumen>\n",
    "<b>La respuesta del volumen a un aumento parece retrasarse un poco con respecto a la respuesta en longitud. ¿Se te ocurre una explicación para esto? </b> <i>Haga clic para obtener una pista</i>\n",
    "</resumen>\n",
    "En la primera etapa de un oleaje, el glaciar ajusta muy rápidamente su longitud. Esto realmente no cambia el volumen del glaciar, solo lo estira. Sin embargo, esto también significa que una mayor parte del área del glaciar estará en la zona de ablación y el glaciar comenzará a perder masa.\n",
    "</detalles>\n",
    "</div>"
   ]
  },
  {
   "cell_type": "markdown",
   "metadata": {},
   "source": [
    "## Referencias\n",
    "¹ Hester Jiskoot: Surgimiento de glaciares. En: Vijay P. Singh, Pratap Singh, Umesh K. Haritashya (Hrsg.): Enciclopedia de nieve, hielo y glaciares. Springer, Dordrecht 2011, págs. 415–428, ISBN 978-90-481-2641-5"
   ]
  },
  {
   "cell_type": "markdown",
   "metadata": {},
   "source": [
    "## ¿Que sigue?"
   ]
  },
  {
   "cell_type": "markdown",
   "metadata": {},
   "source": [
    "xx_markdown_enlace_xx"
   ]
  }
 ],
 "metadata": {
  "hide_input": false,
  "kernelspec": {
   "display_name": "Python 3 (ipykernel)",
   "language": "python",
   "name": "python3"
  },
  "language_info": {
   "codemirror_mode": {
    "name": "ipython",
    "version": 3
   },
   "file_extension": ".py",
   "mimetype": "text/x-python",
   "name": "python",
   "nbconvert_exporter": "python",
   "pygments_lexer": "ipython3",
   "version": "3.8.5"
  },
  "toc": {
   "base_numbering": 1,
   "nav_menu": {},
   "number_sections": false,
   "sideBar": true,
   "skip_h1_title": true,
   "title_cell": "Table of Contents",
   "title_sidebar": "Contents",
   "toc_cell": false,
   "toc_position": {},
   "toc_section_display": true,
   "toc_window_display": false
  }
 },
 "nbformat": 4,
 "nbformat_minor": 4
}
