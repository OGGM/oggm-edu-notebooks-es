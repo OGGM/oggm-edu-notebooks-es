{
 "cells": [
  {
   "cell_type": "markdown",
   "metadata": {},
   "source": [
    "# Avance y retroceso de los glaciares"
   ]
  },
  {
   "cell_type": "markdown",
   "metadata": {},
   "source": [
    "Objetivos de este cuaderno:"
   ]
  },
  {
   "cell_type": "markdown",
   "metadata": {},
   "source": [
    "- Comprender el concepto de altitud de línea de equilibrio (ELA)\n",
    "- Comprender la relación entre el balance de masa glaciar y el ELA\n",
    "- Ser capaz de explicar el avance y retroceso de los glaciares en respuesta a un cambio en el ELA"
   ]
  },
  {
   "cell_type": "code",
   "execution_count": null,
   "metadata": {},
   "outputs": [],
   "source": [
    "from oggm_edu import GlacierBed, Glacier, MassBalance, GlacierCollection\n",
    "from oggm_edu.funcs import plot_glacier_graphics"
   ]
  },
  {
   "cell_type": "markdown",
   "metadata": {},
   "source": [
    "## Explorando el avance y retroceso de los glaciares con OGGM-Edu\n",
    "Comenzamos definiendo un glaciar idealizado, luego dejamos que el glaciar crezca hasta que alcance su estado de equilibrio. Entonces podemos simular el avance y retroceso del glaciar. Representamos los diferentes pasos ilustrados en el [open glacier graphics from the OGGM-EDU website](https://edu.oggm.org/en/latest/glacier_basics.html) (hecho por Anne Maussion, [open glacier graphics from the OGGM-EDU website](https://edu.oggm.org/en/latest/glacier_basics.html))."
   ]
  },
  {
   "cell_type": "markdown",
   "metadata": {},
   "source": [
    "### Inicialización: Definamos nuestro glaciar"
   ]
  },
  {
   "cell_type": "markdown",
   "metadata": {},
   "source": [
    "Primero, como siempre, definimos un perfil de lecho rocoso lineal:\n",
    "A menudo, los glaciares son más anchos en el área de acumulación, por lo que construimos nuestro glaciar de manera que sea más ancho por encima del ELA."
   ]
  },
  {
   "cell_type": "code",
   "execution_count": null,
   "metadata": {},
   "outputs": [],
   "source": [
    "# Lets define the bed.\n",
    "# Top and bottom altitude.\n",
    "top = 5000\n",
    "bottom = 0\n",
    "# How far does the accumulation area extend?\n",
    "accumulation_fraction = 1/3\n",
    "# ELA altitude\n",
    "ela_alt = (top - bottom) * (1 - accumulation_fraction)\n",
    "# Accumulation area starts out as 1000 m. wide.\n",
    "top_width = 1000\n",
    "# 500 m. wide after ELA.\n",
    "ela_width = 500\n",
    "\n",
    "# Bed, note that we increase the map_dx here,\n",
    "# we increase the grid point spacing.\n",
    "bed = GlacierBed(altitudes=[top, ela_alt, bottom],\n",
    "                 widths=[top_width, ela_width, ela_width],\n",
    "                 map_dx=200)"
   ]
  },
  {
   "cell_type": "code",
   "execution_count": null,
   "metadata": {},
   "outputs": [],
   "source": [
    "bed.plot()"
   ]
  },
  {
   "cell_type": "markdown",
   "metadata": {},
   "source": [
    "Ahora necesitamos definir la distribución del balance de masa sobre el glaciar, después de lo cual el glaciar puede crecer hasta su estado de equilibrio inicial."
   ]
  },
  {
   "cell_type": "markdown",
   "metadata": {},
   "source": [
    "#### **Balance de masa y altitud de la línea de equilibrio**"
   ]
  },
  {
   "cell_type": "markdown",
   "metadata": {},
   "source": [
    "El **balance de masa** es el resultado de varios procesos que agregan masa al glaciar (**acumulación**) o eliminan masa del glaciar (**ablación**). Puede encontrar más detalles en el [acumulación y ablación notebook](accumulation_and_ablation_es.ipynb). Como resumen, los siguientes gráficos de glaciares ilustran esta relación:\n",
    "- El gráfico de la izquierda representa una acumulación de masa teórica sobre todo el glaciar representado por el volumen de hielo azul sobre el cuerpo gris del glaciar.\n",
    "- En el gráfico central, una ablación de masa teórica está marcada como volumen de hielo rojo.\n",
    "- El gráfico de la derecha muestra el balance de masa resultante con flechas azules y rojas en combinación con los cambios de volumen azul y rojo en la parte superior del cuerpo gris del glaciar. En la parte central del glaciar, donde la línea roja se encuentra directamente sobre el cuerpo gris del glaciar, la ablación y la acumulación se cancelaron entre sí.\n",
    "<img src=\"https://raw.githubusercontent.com/OGGM/glacier-graphics/master/glacier_intro/png/glacier_03.png\" width=\"33%\" align=\"left\">\n",
    "<img src=\"https://raw.githubusercontent.com/OGGM/glacier-graphics/master/glacier_intro/png/glacier_04.png\" width=\"33%\" align=\"left\">\n",
    "<img src=\"https://raw.githubusercontent.com/OGGM/glacier-graphics/master/glacier_intro/png/glacier_05.png\" width=\"33%\" align=\"left\">\n",
    "*Fuente: [open glacier graphics](http://edu.oggm.org/en/latest/glacier_basics.html) en OGGM-Edu, realizado por Anne Maussion ([open glacier graphics](http://edu.oggm.org/en/latest/glacier_basics.html))*."
   ]
  },
  {
   "cell_type": "markdown",
   "metadata": {},
   "source": [
    "Las tasas de los procesos de acumulación y ablación, sumadas sobre el glaciar y a lo largo del tiempo, determinan el *balance de masa del glaciar*: $\\dot{m}$, el cambio en la masa total de nieve y hielo,"
   ]
  },
  {
   "cell_type": "markdown",
   "metadata": {},
   "source": [
    "$$\\dot{m} = \\text{acumulación} + \\text{ablación}.$$"
   ]
  },
  {
   "cell_type": "markdown",
   "metadata": {},
   "source": [
    "Dado que la acumulación y la ablación generalmente varían con la altura, el balance de masa del glaciar también es una función de la elevación,"
   ]
  },
  {
   "cell_type": "markdown",
   "metadata": {},
   "source": [
    "$$\\dot{m}(z) = \\text{acumulación}(z) + \\text{ablación}(z).$$"
   ]
  },
  {
   "cell_type": "markdown",
   "metadata": {},
   "source": [
    "La masa se redistribuye continuamente en un glaciar: la masa acumulada en la parte superior del glaciar se transporta hacia abajo. La fuerza impulsora de este *flujo de hielo* es la gravedad. Por lo tanto, el balance de masa de una región en un glaciar depende no solo de los intercambios de masa inducidos por la acumulación y la ablación, sino también del transporte de hielo impulsado por la gravedad desde el área de acumulación al área de ablación. El *flujo de hielo* está indicado por la flecha gris en esta figura:\n",
    "<img src=\"https://raw.githubusercontent.com/OGGM/glacier-graphics/master/glacier_intro/png/glacier_06.png\" width=\"60%\">"
   ]
  },
  {
   "cell_type": "markdown",
   "metadata": {},
   "source": [
    "La altitud donde $\\dot{m}(z) = 0$ se denomina *altitud de la línea de equilibrio*, abreviatura de ELA. Por lo tanto, el ELA es la altitud donde los procesos de acumulación y los procesos de ablación se equilibran entre sí, en teoría. Sin embargo, en realidad el ELA no existe exactamente y solo puede ser aproximado.\n",
    "<img src=\"https://raw.githubusercontent.com/OGGM/glacier-graphics/master/glacier_intro/png/glacier_07.png\" width=\"60%\">"
   ]
  },
  {
   "cell_type": "markdown",
   "metadata": {},
   "source": [
    "**Queremos reproducir estos procesos anteriores en un experimento usando OGGM-Edu**.\n",
    "Para este propósito comenzamos con la definición de un balance de masa lineal que tiene la forma\n",
    "$$ \\ punto {m} (z) = (z - ELA) \\ frac {d \\ punto {m}} {dz}, $$\n",
    "con el gradiente de balance de masas $\\frac{d\\dot{m}}{dz}$:"
   ]
  },
  {
   "cell_type": "code",
   "execution_count": null,
   "metadata": {},
   "outputs": [],
   "source": [
    "# mass balance gradient with respect to elevation in mm w.e. m^-1 yr^-1\n",
    "mb_grad = 7"
   ]
  },
  {
   "cell_type": "markdown",
   "metadata": {},
   "source": [
    "Defina el ELA para que esté lo más cerca posible del ancho del ELA. Con esto podemos definir el modelo de balance de masa."
   ]
  },
  {
   "cell_type": "code",
   "execution_count": null,
   "metadata": {},
   "outputs": [],
   "source": [
    "# Defining the mass balance, we use the altitude defined above.\n",
    "mass_balance = MassBalance(ela=ela_alt, gradient=mb_grad)"
   ]
  },
  {
   "cell_type": "markdown",
   "metadata": {},
   "source": [
    "Ahora que tenemos todos los ingredientes para un glaciar, podemos inicializarlo."
   ]
  },
  {
   "cell_type": "code",
   "execution_count": null,
   "metadata": {},
   "outputs": [],
   "source": [
    "my_glacier = Glacier(bed=bed, mass_balance=mass_balance)\n",
    "my_glacier"
   ]
  },
  {
   "cell_type": "code",
   "execution_count": null,
   "metadata": {},
   "outputs": [],
   "source": [
    "my_glacier.plot()"
   ]
  },
  {
   "cell_type": "markdown",
   "metadata": {},
   "source": [
    "### Glaciar en Equilibrio"
   ]
  },
  {
   "cell_type": "markdown",
   "metadata": {},
   "source": [
    "Para que un glaciar esté en equilibrio, requerimos que el balance de masa específico (acumulación + ablación) tenga un promedio de cero durante un año en el glaciar. Un glaciar está en equilibrio si el glaciar no retrocede ni avanza de un año al siguiente si el clima se mantiene constante."
   ]
  },
  {
   "cell_type": "markdown",
   "metadata": {},
   "source": [
    "Avancemos el glaciar hasta que alcance el equilibrio"
   ]
  },
  {
   "cell_type": "code",
   "execution_count": null,
   "metadata": {},
   "outputs": [],
   "source": [
    "my_glacier.progress_to_equilibrium()"
   ]
  },
  {
   "cell_type": "markdown",
   "metadata": {},
   "source": [
    "Echa un vistazo al estado actual de los glaciares"
   ]
  },
  {
   "cell_type": "code",
   "execution_count": null,
   "metadata": {},
   "outputs": [],
   "source": [
    "my_glacier.plot()"
   ]
  },
  {
   "cell_type": "markdown",
   "metadata": {},
   "source": [
    "Aunque nuestro glaciar inicial está en equilibrio, no significa que el balance de masa sea cero en todas partes.\n",
    "El balance de masa positivo neto en la parte superior (más acumulación, menos ablación) equilibra el balance de masa negativo neto en la lengua (menos acumulación, más ablación).\n",
    "Como se explica en el [acumulación y ablación notebook](accumulation_and_ablation_es.ipynb), la acumulación neta en la parte superior da como resultado un flujo de hielo a través del glaciar que compensa el derretimiento en las áreas inferiores.\n",
    "**En equilibrio, el balance de masa neto de un glaciar es cero, pero el hielo sigue moviéndose de arriba hacia abajo.**\n",
    "Ahora hemos preparado el escenario para echar un vistazo al avance y retroceso del glaciar."
   ]
  },
  {
   "cell_type": "markdown",
   "metadata": {},
   "source": [
    "## Glaciar que avanza"
   ]
  },
  {
   "cell_type": "markdown",
   "metadata": {},
   "source": [
    "Para inducir el avance de un glaciar utilizaremos el mismo glaciar que antes, pero bajando la temperatura.\n",
    "Esto mueve el ELA por el glaciar.\n",
    "Para lograr esto configuramos un escenario de cambio climático con el método `.add_temperature_bias`.\n",
    "Nuestro escenario implica una disminución de temperatura de -1.5$^\\circ$C durante 50 años."
   ]
  },
  {
   "cell_type": "code",
   "execution_count": null,
   "metadata": {},
   "outputs": [],
   "source": [
    "my_glacier.add_temperature_bias(bias=-1.5, duration=50)"
   ]
  },
  {
   "cell_type": "markdown",
   "metadata": {},
   "source": [
    "Luego avanzamos el glaciar hasta que alcanza el equilibrio."
   ]
  },
  {
   "cell_type": "code",
   "execution_count": null,
   "metadata": {},
   "outputs": [],
   "source": [
    "my_glacier.progress_to_equilibrium()"
   ]
  },
  {
   "cell_type": "code",
   "execution_count": null,
   "metadata": {},
   "outputs": [],
   "source": [
    "my_glacier.mass_balance"
   ]
  },
  {
   "cell_type": "markdown",
   "metadata": {},
   "source": [
    "Como podemos ver en la representación anterior, el ELA actual se encuentra alrededor de los 3108 m s.n.m. mientras que el ELA original estaba a 3333 m s.n.m.\n",
    "Echemos un vistazo al nuevo estado de equilibrio después de que redujimos la temperatura."
   ]
  },
  {
   "cell_type": "code",
   "execution_count": null,
   "metadata": {},
   "outputs": [],
   "source": [
    "my_glacier.plot_state_history(eq_states=True)"
   ]
  },
  {
   "cell_type": "markdown",
   "metadata": {},
   "source": [
    "La disminución de la ELA da como resultado un área de acumulación aumentada y, por lo tanto, una mayor acumulación. Más masa en la parte superior del glaciar aumentará el flujo de hielo $\\vec{q}$ hacia abajo del glaciar, lo que provocará un avance del extremo del glaciar y, por lo tanto, expandirá el área de ablación.\n",
    "Podemos ver esto observando los contornos en el diagrama de arriba.\n",
    "El contorno azul, más antiguo, se extiende más abajo en el glaciar en comparación con el contorno naranja, más joven.\n",
    "Esto también se ilustra en la siguiente gráfica."
   ]
  },
  {
   "cell_type": "code",
   "execution_count": null,
   "metadata": {},
   "outputs": [],
   "source": [
    "plot_glacier_graphics('09');"
   ]
  },
  {
   "cell_type": "markdown",
   "metadata": {},
   "source": [
    "## Glaciar en retirada"
   ]
  },
  {
   "cell_type": "markdown",
   "metadata": {},
   "source": [
    "Del mismo modo, podemos provocar el retroceso del glaciar.\n",
    "Estableceremos nuestro glaciar inicial nuevamente, pero esta vez aumentaremos la temperatura y así moveremos el ELA hacia arriba del glaciar.\n",
    "Para ello planteamos otro escenario de cambio climático, pero esta vez con un cambio de temperatura positivo."
   ]
  },
  {
   "cell_type": "code",
   "execution_count": null,
   "metadata": {},
   "outputs": [],
   "source": [
    "mass_balance = MassBalance(ela=ela_alt, gradient=mb_grad)\n",
    "my_glacier = Glacier(bed=bed, mass_balance=mass_balance)\n",
    "my_glacier.progress_to_equilibrium()"
   ]
  },
  {
   "cell_type": "code",
   "execution_count": null,
   "metadata": {},
   "outputs": [],
   "source": [
    "# Climate change scenario\n",
    "# 3 degrees warmer in 100 years.\n",
    "my_glacier.add_temperature_bias(bias=3., duration=100)"
   ]
  },
  {
   "cell_type": "markdown",
   "metadata": {},
   "source": [
    "Y progresemos hasta llegar a un nuevo equilibrio"
   ]
  },
  {
   "cell_type": "code",
   "execution_count": null,
   "metadata": {},
   "outputs": [],
   "source": [
    "my_glacier.progress_to_equilibrium()"
   ]
  },
  {
   "cell_type": "code",
   "execution_count": null,
   "metadata": {},
   "outputs": [],
   "source": [
    "my_glacier.mass_balance"
   ]
  },
  {
   "cell_type": "markdown",
   "metadata": {},
   "source": [
    "Aquí acabamos elevando la ELA desde 3333 m. asl a 3783 m. asl"
   ]
  },
  {
   "cell_type": "markdown",
   "metadata": {},
   "source": [
    "Trazar el nuevo estado de equilibrio"
   ]
  },
  {
   "cell_type": "code",
   "execution_count": null,
   "metadata": {},
   "outputs": [],
   "source": [
    "my_glacier.plot_state_history(eq_states=True)"
   ]
  },
  {
   "cell_type": "markdown",
   "metadata": {},
   "source": [
    "Comparando los contornos de los dos estados de equilibrio, podemos ver que el glaciar ha retrocedido: el contorno naranja en corto es más antiguo en comparación con el contorno azul.\n",
    "Similar a lo que vemos en la siguiente figura."
   ]
  },
  {
   "cell_type": "code",
   "execution_count": null,
   "metadata": {},
   "outputs": [],
   "source": [
    "plot_glacier_graphics('10');"
   ]
  },
  {
   "cell_type": "markdown",
   "metadata": {},
   "source": [
    "Podemos explorar más a fondo la respuesta del glaciar durante la retirada observando la historia de nuestro glaciar."
   ]
  },
  {
   "cell_type": "code",
   "execution_count": null,
   "metadata": {},
   "outputs": [],
   "source": [
    "my_glacier.plot_history()"
   ]
  },
  {
   "cell_type": "markdown",
   "metadata": {},
   "source": [
    "El aumento de la temperatura hará crecer el área de ablación que corresponde al aumento de la ELA.\n",
    "Esto da como resultado una mayor pérdida de masa y un menor flujo de hielo para el glaciar.\n",
    "Dado que la acumulación ya no puede seguir el ritmo de la mayor pérdida de masa, el glaciar comenzará a retroceder.\n",
    "Finalmente, el glaciar ha retrocedido lo suficiente como para que la ablación anual se equilibre una vez más con la acumulación anual. $\\rightarrow$ En este punto, el glaciar ha alcanzado un nuevo estado de equilibrio.\n"
   ]
  },
  {
   "cell_type": "markdown",
   "metadata": {},
   "source": [
    "## Llévate puntos a casa"
   ]
  },
  {
   "cell_type": "markdown",
   "metadata": {},
   "source": [
    "- La altitud de la línea de equilibrio (ELA) es la altitud en un glaciar donde la acumulación y la ablación están en equilibrio, $\\dot{m}(z) = 0$ en $z=$ ELA\n",
    "- Una disminución en el ELA conduce a:\n",
    "1. Mayor acumulación\n",
    "2. Una disminución inicial del área de ablación\n",
    "3. Una ganancia de masa neta que resulta en un aumento del flujo de hielo por el glaciar.\n",
    "4. Avance del glaciar\n",
    "- Un aumento en el ELA conduce a:\n",
    "1. Un área de acumulación reducida\n",
    "2. Un área de ablación aumentada\n",
    "3. Una pérdida de masa neta que resulta en una disminución del flujo de hielo por el glaciar.\n",
    "4. Retiro del glaciar"
   ]
  },
  {
   "cell_type": "markdown",
   "metadata": {},
   "source": [
    "## ¿Que sigue?"
   ]
  },
  {
   "cell_type": "markdown",
   "metadata": {},
   "source": [
    "xx_markdown_enlace_xx"
   ]
  }
 ],
 "metadata": {
  "kernelspec": {
   "display_name": "Python 3 (ipykernel)",
   "language": "python",
   "name": "python3"
  },
  "language_info": {
   "codemirror_mode": {
    "name": "ipython",
    "version": 3
   },
   "file_extension": ".py",
   "mimetype": "text/x-python",
   "name": "python",
   "nbconvert_exporter": "python",
   "pygments_lexer": "ipython3",
   "version": "3.8.5"
  }
 },
 "nbformat": 4,
 "nbformat_minor": 4
}
