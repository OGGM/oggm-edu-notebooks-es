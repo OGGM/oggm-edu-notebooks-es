{
 "cells": [
  {
   "cell_type": "markdown",
   "metadata": {},
   "source": [
    "# Introducción a Jupyter Notebook"
   ]
  },
  {
   "cell_type": "markdown",
   "metadata": {},
   "source": [
    "¡Bienvenido a esta introducción a [Jupyter Notebooks](https://jupyter.org/)! La ventaja de los cuadernos es que pueden incluir texto explicativo, código y gráficos en el mismo documento.\n",
    "**Esto hace que los cuadernos sean un patio de recreo ideal para explicar y aprender cosas nuevas sin tener que saltar entre varios documentos. ¡Gracias a Binder, puede ejecutarlos en su navegador web sin necesidad de instalar nada! **\n",
    "Este documento en sí es un cuaderno. Es un archivo de texto simple con un final de ruta de archivo `.ipynb`. Si abrió este cuaderno a través de un enlace de OGGM-Edu Binder, se abre en una plataforma llamada [JupyterLab](https://jupyterlab.readthedocs.io/en/stable/). \"JupyterLab\" es el entorno de desarrollo que le permite navegar entre cuadernos (barra de navegación a la izquierda), (re)iniciarlos y mucho más. Aquí, nos centraremos en los portátiles en sí."
   ]
  },
  {
   "cell_type": "markdown",
   "metadata": {},
   "source": [
    "## Primeros pasos"
   ]
  },
  {
   "cell_type": "markdown",
   "metadata": {},
   "source": [
    "A primera vista, el portátil parece un editor de texto. Debajo de esta línea, puede ver una **celda**. El propósito predeterminado de una celda es escribir código:"
   ]
  },
  {
   "cell_type": "code",
   "execution_count": null,
   "metadata": {},
   "outputs": [],
   "source": [
    "# Click on this cell, so that its frame gets highlighted\n",
    "m = 'Hello'\n",
    "print(m)"
   ]
  },
  {
   "cell_type": "markdown",
   "metadata": {},
   "source": [
    "Puede escribir una o más líneas de código en una celda. Puede **ejecutar** este código haciendo clic en el botón \"Ejecutar\" de la barra de herramientas de arriba cuando el marco de la celda está resaltado. ¡Pruebalo ahora!\n",
    "Es posible hacer clic en \"reproducir\" a través de un cuaderno, pero es mucho más rápido usar el atajo de teclado en su lugar: `[Shift+Enter]`. Once you have executed a cell, the next cell is selected. You can **insert** cells in a notebook with the `+` button in the toolbar. Again, it is much faster to learn the keybord shortcut for this: `[Ctrl+m]` or `[ESC]` to enter in command mode (blue frame) y luego presione `[a]` para insertar una celda \"arriba\" de la celda activa o `[b]` para \"abajo \".\n",
    "Cree algunas celdas vacías encima y debajo de la actual e intente crear algunas variables. En lugar de hacer clic en una celda para ingresar al modo de edición, presione `[Enter]`.\n",
    "Puede **eliminar** una celda haciendo clic en \"Eliminar\" en el menú \"Editar\", o puede usar el atajo: `[Ctrl+m]` para ingresar al modo de comando y luego presione `[d]` dos veces."
   ]
  },
  {
   "cell_type": "markdown",
   "metadata": {},
   "source": [
    "## Más edición de celdas"
   ]
  },
  {
   "cell_type": "markdown",
   "metadata": {},
   "source": [
    "Cuando eche un vistazo al menú \"Editar\", verá que hay más posibilidades para editar celdas, como:\n",
    "- **copiar** / **cortar** y **pegar**\n",
    "- **dividir** y **combinar** celdas\n",
    "y más."
   ]
  },
  {
   "cell_type": "code",
   "execution_count": null,
   "metadata": {},
   "outputs": [],
   "source": [
    "a = 'This cell needs to be splitted.'\n",
    "\n",
    "b = 'Put the cursor in the row between the variables a and b, then choose [split cell] in the \"Edit\" menu!'"
   ]
  },
  {
   "cell_type": "markdown",
   "metadata": {},
   "source": [
    "Otro comando útil es \"Deshacer eliminar celda\", que a veces se necesita cuando la tecla `[d]` se presionó demasiado rápido."
   ]
  },
  {
   "cell_type": "markdown",
   "metadata": {},
   "source": [
    "## Escribir y ejecutar código"
   ]
  },
  {
   "cell_type": "markdown",
   "metadata": {},
   "source": [
    "Las variables creadas en una celda se pueden usar (o sobrescribir) en celdas posteriores:"
   ]
  },
  {
   "cell_type": "code",
   "execution_count": null,
   "metadata": {},
   "outputs": [],
   "source": [
    "s = 'Hello'\n",
    "print(s)"
   ]
  },
  {
   "cell_type": "code",
   "execution_count": null,
   "metadata": {},
   "outputs": [],
   "source": [
    "s = s + ' Python!'\n",
    "# Lines which start with # are not executed. These are for comments.\n",
    "s"
   ]
  },
  {
   "cell_type": "markdown",
   "metadata": {},
   "source": [
    "Tenga en cuenta que omitimos el comando `imprimir` anterior (esto está bien si desea imprimir algo solo al final de la celda)."
   ]
  },
  {
   "cell_type": "markdown",
   "metadata": {},
   "source": [
    "En los cuadernos jupyter, se admite **completado automático de código**. Esto es muy útil al escribir código. Los nombres de variables, funciones y métodos se pueden completar presionando `[TAB]`."
   ]
  },
  {
   "cell_type": "code",
   "execution_count": null,
   "metadata": {},
   "outputs": [],
   "source": [
    "# Let's define a random sentence as string.\n",
    "sentence = 'How Are You?'"
   ]
  },
  {
   "cell_type": "code",
   "execution_count": null,
   "metadata": {},
   "outputs": [],
   "source": [
    "# Now try autocompletion! Type 'se' in the next row and press [TAB].\n"
   ]
  },
  {
   "cell_type": "code",
   "execution_count": null,
   "metadata": {},
   "outputs": [],
   "source": [
    "# Call methods of the string by typing \"sentence.\" and pressing [TAB].\n"
   ]
  },
  {
   "cell_type": "code",
   "execution_count": null,
   "metadata": {},
   "outputs": [],
   "source": [
    "# Choose for example the method lower() and see what happens when you execute the cell!\n",
    "sentence.lower()"
   ]
  },
  {
   "cell_type": "markdown",
   "metadata": {},
   "source": [
    "Una ventaja de los cuadernos es que cada celda individual se puede ejecutar por separado. Eso proporciona una manera fácil de ejecutar el código paso a paso, una celda tras otra. Es importante tener en cuenta que el orden en el que ejecuta las celdas es el orden en el que jupyter notebook calcula y guarda las variables; por lo tanto, el orden de ejecución depende de **usted**, no del orden de las celdas en el documento. Eso significa que hace una diferencia, ya sea que ejecute las celdas de arriba hacia abajo una tras otra, o las mezcle (celda 1, luego celda 5, luego celda 2, etc.)."
   ]
  },
  {
   "cell_type": "markdown",
   "metadata": {},
   "source": [
    "Los números a la izquierda de cada celda le muestran su orden de ejecución. Cuando un cálculo dura más, verá un asterisco en el lugar del número. Eso nos lleva al siguiente tema:"
   ]
  },
  {
   "cell_type": "markdown",
   "metadata": {},
   "source": [
    "## Reiniciar o interrumpir el kernel"
   ]
  },
  {
   "cell_type": "markdown",
   "metadata": {},
   "source": [
    "A veces, los cálculos duran demasiado y desea **interrumpir**. Puede hacerlo haciendo clic en el \"botón Detener\" en la barra de herramientas.\n",
    "El \"**núcleo**\" de un cuaderno es el intérprete de python real que ejecuta su código. Hay un núcleo por cuaderno abierto (es decir, los cuadernos no pueden compartir datos o variables entre sí). En ciertas situaciones (por ejemplo, si se confundió sobre el orden de sus celdas y variables y desea un estado nuevo), es posible que desee **reiniciar el núcleo**. Puede hacerlo (así como otras opciones como **borrar la salida** de un cuaderno) en el menú \"Kernel\" en la barra superior de jupyterlab."
   ]
  },
  {
   "cell_type": "markdown",
   "metadata": {},
   "source": [
    "## Errores en una celda"
   ]
  },
  {
   "cell_type": "markdown",
   "metadata": {},
   "source": [
    "A veces, un fragmento de código en una celda no se ejecuta correctamente. ¡Esto les pasa a todos! Aquí hay un ejemplo:"
   ]
  },
  {
   "cell_type": "code",
   "execution_count": null,
   "metadata": {},
   "outputs": [],
   "source": [
    "# This will produce a \"NameError\"\n",
    "test = 1 + 3\n",
    "print(tesT)"
   ]
  },
  {
   "cell_type": "markdown",
   "metadata": {},
   "source": [
    "Cuando una celda termina con un error, ¡no se asuste! Nada de lo que no podamos recuperarnos. En primer lugar, las otras celdas aún se ejecutarán (a menos que dependan de la salida de la celda que falla): es decir, su núcleo aún está activo. Si desea recuperarse del error, solucione el problema (aquí, un problema de vuelco) y vuelva a ejecutar la celda."
   ]
  },
  {
   "cell_type": "markdown",
   "metadata": {},
   "source": [
    "## Visualización de gráficos con matplotlib"
   ]
  },
  {
   "cell_type": "markdown",
   "metadata": {},
   "source": [
    "La herramienta de trazado más utilizada para Python es [Matplotlib](http://matplotlib.org/). Su sintaxis está inspirada en Matlab y puede resultar familiar para algunos:"
   ]
  },
  {
   "cell_type": "code",
   "execution_count": null,
   "metadata": {},
   "outputs": [],
   "source": [
    "# First we need the next line to tell the notebook: display plots in the notebook.\n",
    "%matplotlib inline\n",
    "\n",
    "# Now, we import matplotlib:\n",
    "import matplotlib.pyplot as plt\n",
    "\n",
    "# We import also the package called numpy (that helps us to play with numbers).\n",
    "import numpy as np"
   ]
  },
  {
   "cell_type": "code",
   "execution_count": null,
   "metadata": {},
   "outputs": [],
   "source": [
    "# Let's plot something nice:\n",
    "\n",
    "# Define a square function of x\n",
    "x = np.linspace(-1, 1)\n",
    "y = np.sqrt(1-x**2)\n",
    "# Plot it.\n",
    "plt.plot(x, y)\n",
    "plt.title('My first plot in a notebook');"
   ]
  },
  {
   "cell_type": "markdown",
   "metadata": {},
   "source": [
    "## Parcelas interactivas con Bokeh"
   ]
  },
  {
   "cell_type": "markdown",
   "metadata": {},
   "source": [
    "[Bokeh](http://bokeh.org) es una biblioteca de trazado hecha para la web. Utiliza otra sintaxis que matplotlib y se puede utilizar para mostrar gráficos interactivos. En OGGM-Edu, a veces preferimos usar gráficos interactivos, ya que permiten explorar los datos después del gráfico. Aquí hay un ejemplo:"
   ]
  },
  {
   "cell_type": "code",
   "execution_count": null,
   "metadata": {},
   "outputs": [],
   "source": [
    "# hvplot is a plotting library relying on bokeh\n",
    "# you'll need to install it alongside with pandas for this cell to work\n",
    "import hvplot.pandas\n",
    "\n",
    "# pandas is a very useful data analysis library\n",
    "import pandas as pd\n",
    "\n",
    "# This makes the plot\n",
    "ts = pd.Series(index=x, data=y)\n",
    "ts.hvplot().opts(title='An interactive plot', width=500)"
   ]
  },
  {
   "cell_type": "markdown",
   "metadata": {},
   "source": [
    "## Dar formato a su cuaderno con texto, títulos y fórmulas"
   ]
  },
  {
   "cell_type": "markdown",
   "metadata": {},
   "source": [
    "La función predeterminada de una celda es ejecutar código, pero puede indicarle al cuaderno que formatee una celda como \"texto\" haciendo clic en la barra de menú en \"Celda\", seleccione \"Tipo de celda\" $\\rightarrow$ \"Markdown\". La celda actual ahora se transformará en un texto normal.\n",
    "Una vez más, hay un atajo de teclado para esto: presione `[Ctrl+m]` to enter in command mode and then `[m]` to convert the active cell to text. The opposite (converting a text cell to code) se puede hacer con `[Ctrl+m]` para entrar en el modo de comando y luego `[y]`.\n",
    "Como hemos visto, el editor de cuadernos tiene dos modos simples: el \"modo comando\" para navegar entre celdas y activarlas, y el \"modo editar\" para editar su contenido. Para editar una celda tienes dos opciones:\n",
    "- presione la celda `[enter]` on a selected (highlighted)\n",
    "- haga doble clic en una celda (cualquier celda)\n",
    "¡Ahora, intente editar la celda de abajo!"
   ]
  },
  {
   "cell_type": "markdown",
   "metadata": {},
   "source": [
    "Una celda de texto tiene el formato [Markdown](https://en.wikipedia.org/wiki/Markdown), p. es posible escribir listas:\n",
    "- Objeto 1\n",
    "- artículo 2\n",
    "Listas numeradas:\n",
    "1. parte a\n",
    "2. parte b\n",
    "Títulos con la sintaxis `#` (el número de `#` que indica el nivel del título:\n",
    "### Este es un título de nivel 3 (con 3 símbolos `#`)\n",
    "Las fórmulas matemáticas se pueden escribir con la conocida notación Latex:\n",
    "$$ E = m c^2$$\n",
    "También puede escribir texto en **negrita** o *cursiva*."
   ]
  },
  {
   "cell_type": "markdown",
   "metadata": {},
   "source": [
    "## Descargar un cuaderno"
   ]
  },
  {
   "cell_type": "markdown",
   "metadata": {},
   "source": [
    "Los cuadernos de Jupyter se pueden descargar en varios formatos:\n",
    "- Cuaderno estándar (`*.ipynb`): un archivo de texto que solo es útil en el marco de Jupyter\n",
    "- Python (`*.py`): un script de Python que se puede ejecutar por separado.\n",
    "- HTML (`*.html`): un archivo de texto html que se puede abrir en cualquier navegador web (¡no requiere python o jupyter!)\n",
    "- ... y una serie de otros formatos que pueden o no funcionar dependiendo de su instalación"
   ]
  },
  {
   "cell_type": "markdown",
   "metadata": {},
   "source": [
    "**Para descargar un cuaderno jupyter en formato de cuaderno** (`.ipynb`), seleccione el archivo en la barra lateral izquierda, haga clic con el botón derecho y seleccione \"Descargar\". ¡Pruebalo ahora!\n",
    "**Para todos los demás formatos**, vaya al menú \"Archivo\", luego \"Exportar libreta como...\""
   ]
  },
  {
   "cell_type": "markdown",
   "metadata": {},
   "source": [
    "## Llévate puntos a casa"
   ]
  },
  {
   "cell_type": "markdown",
   "metadata": {},
   "source": [
    "- Los cuadernos jupyter consisten en celdas, que pueden ser código o texto (no ambos)\n",
    "- uno puede navegar entre celdas en \"modo de control\" (`[ctrl+m]`) y editarlas en \"modo de edición\" (`[ctrl+m]`)\n",
    "- para ejecutar una celda, haz: `[shift+enter]`\n",
    "- el orden de ejecución de las celdas *sí* importa\n",
    "- una celda de texto está escrita en formato de descuento, lo que permite un gran formato elegante"
   ]
  },
  {
   "cell_type": "markdown",
   "metadata": {},
   "source": [
    "Estas fueron las características más importantes de jupyter-notebook. En la barra de menú del portátil, la pestaña \"Ayuda\" proporciona enlaces a la documentación. Los métodos abreviados de teclado se enumeran en el icono \"Paleta\" en la barra de herramientas del lado izquierdo. Además, hay más tutoriales [on the Jupyter website](https://jupyter.org/try).\n",
    "¡Pero con los pocos comandos que aprendiste hoy, ya estás bien preparado para los experimentos de OGGM-Edu!"
   ]
  },
  {
   "cell_type": "markdown",
   "metadata": {},
   "source": [
    "## ¿Que sigue?"
   ]
  },
  {
   "cell_type": "markdown",
   "metadata": {},
   "source": [
    "xx_markdown_enlace_xx"
   ]
  }
 ],
 "metadata": {
  "execution": {
   "allow_errors": true
  },
  "hide_input": false,
  "kernelspec": {
   "display_name": "Python 3 (ipykernel)",
   "language": "python",
   "name": "python3"
  },
  "language_info": {
   "codemirror_mode": {
    "name": "ipython",
    "version": 3
   },
   "file_extension": ".py",
   "mimetype": "text/x-python",
   "name": "python",
   "nbconvert_exporter": "python",
   "pygments_lexer": "ipython3",
   "version": "3.8.5"
  },
  "toc": {
   "base_numbering": 1,
   "nav_menu": {},
   "number_sections": false,
   "sideBar": true,
   "skip_h1_title": true,
   "title_cell": "Table of Contents",
   "title_sidebar": "Contents",
   "toc_cell": false,
   "toc_position": {},
   "toc_section_display": true,
   "toc_window_display": false
  }
 },
 "nbformat": 4,
 "nbformat_minor": 4
}
