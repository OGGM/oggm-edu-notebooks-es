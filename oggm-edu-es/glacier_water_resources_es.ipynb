{
 "cells": [
  {
   "cell_type": "markdown",
   "metadata": {},
   "source": [
    "# Los glaciares como recursos hídricos: parte 1 (clima idealizado)"
   ]
  },
  {
   "cell_type": "markdown",
   "metadata": {},
   "source": [
    "Nuestros cuadernos anteriores mostraron cómo usar OGGM para responder preguntas teóricas sobre los glaciares, usando experimentos idealizados: el efecto de una pendiente diferente, el concepto de altitud de la línea de equilibrio, el gradiente de balance de masa, etc. Ahora, ¿cómo usamos OGGM para explorar glaciares reales? Este cuaderno nos da una idea."
   ]
  },
  {
   "cell_type": "markdown",
   "metadata": {},
   "source": [
    "Objetivos de este cuaderno:\n",
    "- preparar una carrera modelo para un glaciar del mundo real\n",
    "- ejecutar simulaciones utilizando diferentes escenarios climáticos idealizados para explorar el papel de los glaciares como recursos hídricos\n",
    "- comprender el concepto de \"pico de agua\""
   ]
  },
  {
   "cell_type": "markdown",
   "metadata": {},
   "source": [
    "## Preparando el escenario: la escorrentía de los glaciares y el \"pico de agua\""
   ]
  },
  {
   "cell_type": "markdown",
   "metadata": {},
   "source": [
    "*\"Si los glaciares se derriten, ya no habrá agua en la montaña\".*\n",
    "\n",
    "Esta es una frase que escuchamos a menudo de personas que conocemos, o a veces incluso en artículos de noticias. De hecho, el papel de los glaciares en el ciclo hidrológico es más complejo que eso. En este cuaderno, exploraremos esta pregunta utilizando escenarios climáticos idealizados aplicados a glaciares reales."
   ]
  },
  {
   "cell_type": "markdown",
   "metadata": {},
   "source": [
    "Antes de continuar, echemos un vistazo a la contribución esperada de los glaciares al caudal local. El siguiente gráfico muestra un escenario idealizado donde el clima es primero constante (t$_0$-t$_1$, y el glaciar está en equilibrio con su clima) y luego ocurre un calentamiento (t$_1$-t$_2$) . Este gráfico presenta algunos puntos muy importantes, que exploraremos juntos en este cuaderno.\n",
    "1. Cuando un glaciar está en equilibrio, no contribuye en absoluto a la escorrentía anual.\n",
    "2. Cuando el clima se calienta, los glaciares pierden masa. Esta agua contribuye a la escorrentía río abajo, y la escorrentía aumenta.\n",
    "3. Si el clima se calienta aún más, los glaciares seguirán perdiendo masa y se volverán significativamente más pequeños. Cuando no quede mucho hielo por derretir cada año (o cuando el clima se estabilice), su contribución será menor hasta volver a ser cero.\n",
    "4. En el nuevo equilibrio, la escorrentía anual es la misma que antes, pero la contribución estacional cambió.\n",
    "¡Ahora volveremos a todos estos puntos juntos, usando OGGM!\n",
    "<img src=\"https://raw.githubusercontent.com/OGGM/oggm-edu/master/docs/_static/fig_huss_hock.jpg\" width=\"700px\" alt=\"Figura 1 de https://www.nature. com/articulos/s41558-017-0049-x\">\n",
    "*Gráfico de [Huss & Hock (2018)](https://www.nature.com/articles/s41558-017-0049-x)*"
   ]
  },
  {
   "cell_type": "markdown",
   "metadata": {},
   "source": [
    "## Configuración"
   ]
  },
  {
   "cell_type": "code",
   "execution_count": null,
   "metadata": {},
   "outputs": [],
   "source": [
    "import matplotlib.pyplot as plt\n",
    "import seaborn as sns\n",
    "%matplotlib inline\n",
    "sns.set_context('notebook')"
   ]
  },
  {
   "cell_type": "code",
   "execution_count": null,
   "metadata": {},
   "outputs": [],
   "source": [
    "# One interactive plot below requires Bokeh\n",
    "# The rest of the notebook works without this dependency\n",
    "import holoviews as hv\n",
    "hv.extension('bokeh')\n",
    "import geoviews as gv\n",
    "import geoviews.tile_sources as gts"
   ]
  },
  {
   "cell_type": "code",
   "execution_count": null,
   "metadata": {},
   "outputs": [],
   "source": [
    "# Temporarily ignore warnings from shapely\n",
    "import warnings\n",
    "from shapely.errors import ShapelyDeprecationWarning\n",
    "warnings.filterwarnings('ignore', category=ShapelyDeprecationWarning)"
   ]
  },
  {
   "cell_type": "code",
   "execution_count": null,
   "metadata": {},
   "outputs": [],
   "source": [
    "import xarray as xr\n",
    "import salem\n",
    "import numpy as np\n",
    "import pandas as pd"
   ]
  },
  {
   "cell_type": "code",
   "execution_count": null,
   "metadata": {},
   "outputs": [],
   "source": [
    "import oggm.cfg\n",
    "from oggm import utils, workflow, tasks, graphics\n",
    "from oggm_edu.legacy import run_constant_climate_with_bias"
   ]
  },
  {
   "cell_type": "code",
   "execution_count": null,
   "metadata": {},
   "outputs": [],
   "source": [
    "# OGGM options\n",
    "oggm.cfg.initialize(logging_level='WARNING')\n",
    "oggm.cfg.PATHS['working_dir'] = utils.gettempdir(dirname='WaterResources')\n",
    "oggm.cfg.PARAMS['min_ice_thick_for_length'] = 1  # a glacier is when ice thicker than 1m\n",
    "oggm.cfg.PARAMS['store_model_geometry'] = True"
   ]
  },
  {
   "cell_type": "markdown",
   "metadata": {},
   "source": [
    "### Definir el glaciar con el que jugaremos"
   ]
  },
  {
   "cell_type": "markdown",
   "metadata": {},
   "source": [
    "Para este cuaderno usamos Hintereisferner, Austria. Algunas otras posibilidades para jugar:\n",
    "-Hintereisferner, Austria: RGI60-11.00897\n",
    "- Artesonraju, Peru: RGI60-16.02444\n",
    "-Rikha Samba, Nepal: RGI60-15.04847\n",
    "-Parlung No. 94, China: RGI60-15.11693\n",
    "Y prácticamente cualquier glaciar en el que pueda encontrar el RGI Id, p. en el [GLIMS viewer](https://www.glims.org/maps/glims)! Sin embargo, los grandes glaciares pueden necesitar simulaciones más largas para ver los cambios. Para parámetros de calibración menos inciertos, también recomendamos elegir uno de los muchos glaciares de referencia [GLIMS viewer](https://www.glims.org/maps/glims), donde nos aseguramos de que las observaciones del balance de masa coincidan mejor.\n",
    "Comencemos primero con Hintereisferner y al final de este cuaderno se le invitará a probar su glaciar favorito."
   ]
  },
  {
   "cell_type": "code",
   "execution_count": null,
   "metadata": {},
   "outputs": [],
   "source": [
    "# Hintereisferner\n",
    "rgi_id = 'RGI60-11.00897'"
   ]
  },
  {
   "cell_type": "markdown",
   "metadata": {},
   "source": [
    "## Preparando los datos del glaciar"
   ]
  },
  {
   "cell_type": "markdown",
   "metadata": {},
   "source": [
    "Esto puede tardar unos minutos en la primera llamada debido a la descarga de los datos necesarios:"
   ]
  },
  {
   "cell_type": "code",
   "execution_count": null,
   "metadata": {},
   "outputs": [],
   "source": [
    "# We pick the elevation-bands glaciers because they run a bit faster - but they create more step changes in the area outputs\n",
    "base_url = 'https://cluster.klima.uni-bremen.de/~oggm/gdirs/oggm_v1.4/L3-L5_files/CRU/elev_bands/qc3/pcp2.5/no_match'\n",
    "gdir = workflow.init_glacier_directories([rgi_id], from_prepro_level=5, prepro_border=80, prepro_base_url=base_url)[0]"
   ]
  },
  {
   "cell_type": "markdown",
   "metadata": {},
   "source": [
    "## Mapa glaciar interactivo"
   ]
  },
  {
   "cell_type": "markdown",
   "metadata": {},
   "source": [
    "Un primer vistazo al glaciar de interés.\n",
    "*Sugerencia: puede usar el mouse para desplazarse y hacer zoom en el mapa*"
   ]
  },
  {
   "cell_type": "code",
   "execution_count": null,
   "metadata": {},
   "outputs": [],
   "source": [
    "sh = salem.transform_geopandas(gdir.read_shapefile('outlines'))\n",
    "(gv.Polygons(sh).opts(fill_color=None, color_index=None) *\n",
    " gts.tile_sources['EsriImagery'] * gts.tile_sources['StamenLabels']).opts(width=800, height=500, active_tools=['pan', 'wheel_zoom'])"
   ]
  },
  {
   "cell_type": "markdown",
   "metadata": {},
   "source": [
    "Para OGGM, los glaciares tienen una dimensión de \"1,5\" a lo largo de su línea de flujo:"
   ]
  },
  {
   "cell_type": "code",
   "execution_count": null,
   "metadata": {},
   "outputs": [],
   "source": [
    "fls = gdir.read_pickle('model_flowlines')\n",
    "graphics.plot_modeloutput_section(fls);"
   ]
  },
  {
   "cell_type": "markdown",
   "metadata": {},
   "source": [
    "## Generando un glaciar en equilibrio con el clima"
   ]
  },
  {
   "cell_type": "markdown",
   "metadata": {},
   "source": [
    "Preparemos una ejecución con las tareas `run_constant_climate_with_bias` del paquete `oggm_edu`. Nos permite ejecutar escenarios idealizados de corrección de temperatura y precipitación de una manera fácil.\n",
    "Primero, decidamos una evolución de la temperatura:"
   ]
  },
  {
   "cell_type": "code",
   "execution_count": null,
   "metadata": {},
   "outputs": [],
   "source": [
    "years = np.arange(400)\n",
    "temp_bias_ts = pd.Series(years * 0. - 2, index=years)\n",
    "temp_bias_ts.plot(); plt.xlabel('Year'); plt.ylabel('Temperature bias (°C)');"
   ]
  },
  {
   "cell_type": "markdown",
   "metadata": {},
   "source": [
    "¡No hay mucho que ver aqui! La variable `temp_bias_ts` describe un sesgo de temperatura que se aplicará al clima estándar (ver más abajo).\n",
    "Aquí, el sesgo es de -2 ° todo el tiempo porque queremos ejecutar una carrera llamada \"spin-up\", para permitir que el glaciar crezca y asegurarnos de que nuestro glaciar esté en equilibrio dinámico con su clima al final de la simulación. Vamos:"
   ]
  },
  {
   "cell_type": "code",
   "execution_count": null,
   "metadata": {},
   "outputs": [],
   "source": [
    "# file identifier where the model output is saved\n",
    "file_id = '_spinup'\n",
    "\n",
    "# We are using the task run_with_hydro to store hydrological outputs along with the usual glaciological outputs\n",
    "tasks.run_with_hydro(gdir,  # Run on the selected glacier\n",
    "                     temp_bias_ts=temp_bias_ts,  # the temperature bias to apply to the average climate\n",
    "                     run_task=run_constant_climate_with_bias,  # which climate scenario? See following notebook for other examples\n",
    "                     y0=2009, halfsize=10,  # Period which we will average and constantly repeat\n",
    "                     store_monthly_hydro=True,  # Monthly ouptuts provide additional information\n",
    "                     output_filesuffix=file_id);  # an identifier for the output file, to read it later"
   ]
  },
  {
   "cell_type": "markdown",
   "metadata": {},
   "source": [
    "Bien, hay bastante material nuevo en la celda de arriba. Centrémonos en los puntos más importantes:\n",
    "- ejecutamos el modelo durante 400 años (según lo definido por nuestra serie temporal de temperatura de control)\n",
    "- el modelo se ejecuta con un clima constante promediado durante 21 años (2 veces `halfsize` + 1) para el período 1999-2019\n",
    "- aplicamos una polarización en frío de -2°C. De hecho, Hintereisferner está en fuerte desequilibrio con el clima actual y se necesita tal sesgo para que el glaciar crezca (más sobre esto más adelante)"
   ]
  },
  {
   "cell_type": "markdown",
   "metadata": {},
   "source": [
    "Ahora echemos un vistazo a la salida ahora:"
   ]
  },
  {
   "cell_type": "code",
   "execution_count": null,
   "metadata": {},
   "outputs": [],
   "source": [
    "with xr.open_dataset(gdir.get_filepath('model_diagnostics', filesuffix=file_id)) as ds:\n",
    "    # The last step of hydrological output is NaN (we can't compute it for this year)\n",
    "    ds = ds.isel(time=slice(0, -1)).load()"
   ]
  },
  {
   "cell_type": "markdown",
   "metadata": {},
   "source": [
    "¡Hay muchas variables en este conjunto de datos! Podemos enumerarlos con:"
   ]
  },
  {
   "cell_type": "code",
   "execution_count": null,
   "metadata": {},
   "outputs": [],
   "source": [
    "ds"
   ]
  },
  {
   "cell_type": "markdown",
   "metadata": {},
   "source": [
    "*Consejo: puede hacer clic en una variable y mostrar su atributo con el botón \"página\" a la derecha.*\n",
    "Las variables `time` y `month_2d` son coordenadas, y las otras variables se proporcionan como información adicional (por ejemplo, `calendar_month`, volveremos a esto), o proporcionan los datos reales. Por ejemplo, podemos trazar la evolución anual del volumen y longitud de nuestro glaciar:"
   ]
  },
  {
   "cell_type": "code",
   "execution_count": null,
   "metadata": {},
   "outputs": [],
   "source": [
    "fig, axs = plt.subplots(nrows=2, figsize=(10, 7), sharex=True)\n",
    "ds.volume_m3.plot(ax=axs[0]);\n",
    "ds.length_m.plot(ax=axs[1]);\n",
    "axs[0].set_xlabel(''); axs[0].set_title(f'{rgi_id}'); axs[1].set_xlabel('Years');"
   ]
  },
  {
   "cell_type": "markdown",
   "metadata": {},
   "source": [
    "El glaciar crece y casi duplica su volumen. Después de 400 años, está en equilibrio.\n",
    "Esta simulación de rotación no se analizará más: saltemos al corazón del tema: **¿qué sucede con la escorrentía de los glaciares cuando el clima se está calentando**?"
   ]
  },
  {
   "cell_type": "markdown",
   "metadata": {},
   "source": [
    "## Simulación de cambio climático"
   ]
  },
  {
   "cell_type": "markdown",
   "metadata": {},
   "source": [
    "Comenzamos generando un escenario de cambio de temperatura. Definimos un período corto de temperatura constante (a -2°C, para ser coherentes con lo anterior), seguido de un aumento lineal (2,5 grados en unos 150 años) y una estabilización:"
   ]
  },
  {
   "cell_type": "code",
   "execution_count": null,
   "metadata": {},
   "outputs": [],
   "source": [
    "ny_s = 50  # Start\n",
    "ny_t = 150  # Trend\n",
    "ny_e = 102  # Stabilisation\n",
    "temp_bias_ts = np.concatenate([np.full(ny_s, -2.), np.linspace(-2, 0.5, ny_t), np.full(ny_e, 0.5)])\n",
    "temp_bias_ts = pd.Series(temp_bias_ts, index=np.arange(ny_s + ny_t + ny_e))\n",
    "temp_bias_ts.plot(); plt.xlabel('Year'); plt.ylabel('Temperature bias (°C)');"
   ]
  },
  {
   "cell_type": "code",
   "execution_count": null,
   "metadata": {},
   "outputs": [],
   "source": [
    "# file identifier where the model output is saved\n",
    "file_id = '_lin_temp'\n",
    "\n",
    "# We are using the task run_with_hydro to store hydrological outputs along with the usual glaciological outputs\n",
    "tasks.run_with_hydro(gdir,\n",
    "                     temp_bias_ts=temp_bias_ts,  # the temperature bias timeseries we just created\n",
    "                     run_task=run_constant_climate_with_bias,  # which climate scenario? See following notebook for other examples\n",
    "                     y0=2009, halfsize=10,  # Period which we will average and constantly repeat\n",
    "                     store_monthly_hydro=True,  # Monthly ouptuts provide additional information\n",
    "                     init_model_filesuffix='_spinup',  # We want to start from the glacier in equibrium we created earlier\n",
    "                     output_filesuffix=file_id);  # an identifier for the output file, to read it later"
   ]
  },
  {
   "cell_type": "markdown",
   "metadata": {},
   "source": [
    "Echemos un vistazo a la evolución de nuestro glaciar:"
   ]
  },
  {
   "cell_type": "code",
   "execution_count": null,
   "metadata": {},
   "outputs": [],
   "source": [
    "with xr.open_dataset(gdir.get_filepath('model_diagnostics', filesuffix=file_id)) as ds:\n",
    "    # The last step of hydrological output is NaN (we can't compute it for this year)\n",
    "    ds = ds.isel(time=slice(0, -1)).load()"
   ]
  },
  {
   "cell_type": "code",
   "execution_count": null,
   "metadata": {},
   "outputs": [],
   "source": [
    "fig, axs = plt.subplots(nrows=3, figsize=(10, 7), sharex=True)\n",
    "ds.volume_m3.plot(ax=axs[0]);\n",
    "ds.length_m.plot(ax=axs[1]);\n",
    "temp_bias_ts.plot(ax=axs[2], c='C3');\n",
    "axs[0].set_xlabel(''); axs[0].set_title(f'{rgi_id}'); axs[1].set_xlabel(''); axs[2].set_xlabel('Years'); axs[2].set_ylabel('Temperature bias (°C)');"
   ]
  },
  {
   "cell_type": "markdown",
   "metadata": {},
   "source": [
    "En este escenario, el glaciar se derretiría casi por completo (pierde alrededor del 90% de su volumen). Tenga en cuenta también que el glaciar continúa ajustándose después de que la temperatura se ha estabilizado. **¿Cuáles son las implicaciones para la escorrentía río abajo?**"
   ]
  },
  {
   "cell_type": "markdown",
   "metadata": {},
   "source": [
    "### escurrimiento anual"
   ]
  },
  {
   "cell_type": "markdown",
   "metadata": {},
   "source": [
    "A medida que los glaciares retroceden, contribuyen al aumento del nivel del mar (¡visite la aplicación [World Glaciers Explorer](https://edu.oggm.org/en/latest/explorer.html) OGGM-Edu para obtener más información!). Esto no es lo que nos interesa aquí. De hecho, también tendrán impactos locales importantes: en este cuaderno, veremos su impacto en el flujo de agua.\n",
    "Echemos un vistazo a algunos de los resultados hidrológicos calculados por OGGM. Comenzamos creando un marco de datos de pandas de todas las variables \"1D\" (anuales) en el conjunto de datos de salida:"
   ]
  },
  {
   "cell_type": "code",
   "execution_count": null,
   "metadata": {},
   "outputs": [],
   "source": [
    "sel_vars = [v for v in ds.variables if 'month_2d' not in ds[v].dims]\n",
    "df_annual = ds[sel_vars].to_dataframe()"
   ]
  },
  {
   "cell_type": "markdown",
   "metadata": {},
   "source": [
    "Luego podemos seleccionar las variables hidrológicas y sumarlas para obtener la escorrentía total anual:"
   ]
  },
  {
   "cell_type": "code",
   "execution_count": null,
   "metadata": {},
   "outputs": [],
   "source": [
    "# Select only the runoff variables\n",
    "runoff_vars = ['melt_off_glacier', 'melt_on_glacier', 'liq_prcp_off_glacier', 'liq_prcp_on_glacier']\n",
    "# Convert them to megatonnes (instead of kg)\n",
    "df_runoff = df_annual[runoff_vars] * 1e-9\n",
    "# We smooth the output, which is otherwize noisy because of area discretization\n",
    "df_runoff = df_runoff.rolling(31, center=True, min_periods=1).mean()\n",
    "fig, ax = plt.subplots(figsize=(10, 3.5), sharex=True)\n",
    "df_runoff.sum(axis=1).plot(ax=ax);\n",
    "plt.ylabel('Runoff (Mt)'); plt.xlabel('Years'); plt.title(f'Total annual runoff for {rgi_id}');"
   ]
  },
  {
   "cell_type": "markdown",
   "metadata": {},
   "source": [
    "Las variables hidrológicas se calculan sobre la mayor área posible cubierta por hielo glaciar durante la simulación. Esto es equivalente a la escorrentía que se mediría en una estación hidrológica de calibre fijo en el extremo del glaciar.\n",
    "La escorrentía total anual consta de los siguientes componentes:\n",
    "- fusión fuera del glaciar: la nieve se derrite en áreas que ahora están libres de glaciares (es decir, 0 en el año de mayor extensión del glaciar, en este ejemplo al comienzo de la simulación)\n",
    "- derretimiento en el glaciar: hielo + nieve estacional derretida en el glaciar\n",
    "- precipitación líquida dentro y fuera del glaciar (esta última siendo cero en el año de mayor extensión glacial, en este ejemplo al comienzo de la simulación)"
   ]
  },
  {
   "cell_type": "code",
   "execution_count": null,
   "metadata": {},
   "outputs": [],
   "source": [
    "f, ax = plt.subplots(figsize=(10, 6));\n",
    "df_runoff.plot.area(ax=ax, color=sns.color_palette('rocket')); plt.xlabel('Years'); plt.ylabel('Runoff (Mt)'); plt.title(rgi_id);"
   ]
  },
  {
   "cell_type": "markdown",
   "metadata": {},
   "source": [
    "La longitud y el volumen del glaciar disminuyen desde el año 50 en adelante hasta aproximadamente el año 250; esta es la fase de **retroceso del glaciar**. Posteriormente, la longitud y el volumen se estabilizan en un valor constante, lo que indica que el glaciar ha **alcanzado el equilibrio**.\n",
    "Ahora estudie el gráfico anterior y sus cuatro componentes principales.\n",
    "**Preguntas a abordar:**\n",
    "- ¿Cuándo se alcanza el \"pico de agua\"? ¿Tiene esto algo que ver con un cambio en la tendencia de la temperatura en sí? Si no, ¿cuál es la razón por la que se produce el \"pico de agua\"?\n",
    "- Verifique que la escorrentía total de calibre fijo (¿recuerda lo que esto significa?) sea la misma al principio y al final de la simulación. ¿Por qué es así? ¿Qué cambió en el medio?\n",
    "- La temperatura se estabiliza en el año 200, pero todas las variables hidrológicas continúan cambiando después de eso. ¿Lo que está sucediendo allí?\n",
    "- ¿Cuál es la contribución de la precipitación líquida al principio y al final de la simulación? ¿Qué cambió?\n",
    "- ¿Puede verificar que la contribución neta del glaciar a la escorrentía (es decir, - $\\Delta M / \\Delta t$ es cero al principio y al final de la simulación y positiva en el medio? ¿Por qué esperamos este comportamiento?\n",
    "*Sugerencia: compare los resultados con el gráfico de escorrentía idealizado que presentamos al principio de este capítulo*"
   ]
  },
  {
   "cell_type": "code",
   "execution_count": null,
   "metadata": {},
   "outputs": [],
   "source": [
    "# Solution of the last question above\n",
    "glacier_mass = ds.volume_m3.to_series() * oggm.cfg.PARAMS['ice_density'] * 1e-9  # In Megatonnes, Mt\n",
    "glacier_mass = glacier_mass.rolling(31, center=True, min_periods=1).mean()\n",
    "(- glacier_mass.diff()).plot()\n",
    "plt.axhline(y=0, color='k', ls=':')\n",
    "plt.ylabel('Annual glacier mass change (Mt yr$^{-1}$)')\n",
    "plt.xlabel('Years'); plt.title('Glacier contribution to annual runoff');"
   ]
  },
  {
   "cell_type": "markdown",
   "metadata": {},
   "source": [
    "### escorrentía mensual"
   ]
  },
  {
   "cell_type": "markdown",
   "metadata": {},
   "source": [
    "Las variables \"2D\" contienen los mismos datos hidrológicos, pero con resolución mensual (dimensiones [time, month]). Por ejemplo, la escorrentía mensual se puede calcular como:"
   ]
  },
  {
   "cell_type": "code",
   "execution_count": null,
   "metadata": {},
   "outputs": [],
   "source": [
    "# Select only the runoff variables and convert them to megatonnes (instead of kg)\n",
    "monthly_runoff = ds['melt_off_glacier_monthly'] + ds['melt_on_glacier_monthly'] + ds['liq_prcp_off_glacier_monthly'] + ds['liq_prcp_on_glacier_monthly']\n",
    "monthly_runoff = monthly_runoff.rolling(time=31, center=True, min_periods=1).mean() * 1e-9\n",
    "monthly_runoff.clip(0).plot(cmap='Blues', cbar_kwargs={'label': 'Runoff (Mt)'}); plt.xlabel('Months'); plt.ylabel('Years');"
   ]
  },
  {
   "cell_type": "markdown",
   "metadata": {},
   "source": [
    "Pero tenga en cuenta, algo está un poco mal con esta trama (algunos de ustedes pueden haber notado: el derretimiento máximo ocurre en otoño, lo cual es inusual): eso se debe a que las coordenadas OGGM son meses hidrológicos; mejoremos esto:"
   ]
  },
  {
   "cell_type": "code",
   "execution_count": null,
   "metadata": {},
   "outputs": [],
   "source": [
    "# This should work in both hemispheres maybe?\n",
    "ds_roll = ds.roll(month_2d=ds['calendar_month_2d'].data[0] - 1, roll_coords=True)\n",
    "ds_roll['month_2d'] = ds_roll['calendar_month_2d']\n",
    "\n",
    "# Select only the runoff variables and convert them to megatonnes (instead of kg)\n",
    "monthly_runoff = ds_roll['melt_off_glacier_monthly'] + ds_roll['melt_on_glacier_monthly'] + ds_roll['liq_prcp_off_glacier_monthly'] + ds_roll['liq_prcp_on_glacier_monthly']\n",
    "monthly_runoff = monthly_runoff.rolling(time=31, center=True, min_periods=1).mean() * 1e-9\n",
    "monthly_runoff.clip(0).plot(cmap='Blues', cbar_kwargs={'label': 'Runoff (Mt)'}); plt.xlabel('Months'); plt.ylabel('Years');"
   ]
  },
  {
   "cell_type": "markdown",
   "metadata": {},
   "source": [
    "Como podemos ver, la escorrentía es aproximadamente cero durante los meses de invierno, mientras que es relativamente alta durante los meses de verano.\n",
    "Ahora comparemos la escorrentía real con la precipitación total sobre la cuenca:"
   ]
  },
  {
   "cell_type": "code",
   "execution_count": null,
   "metadata": {},
   "outputs": [],
   "source": [
    "# Compute total precipitation (Snow + Liquid)\n",
    "tot_precip = ds_roll['liq_prcp_off_glacier_monthly'] + ds_roll['liq_prcp_on_glacier_monthly'] + ds_roll['snowfall_off_glacier_monthly'] + ds_roll['snowfall_on_glacier_monthly']\n",
    "tot_precip *= 1e-9  # in Mt"
   ]
  },
  {
   "cell_type": "code",
   "execution_count": null,
   "metadata": {},
   "outputs": [],
   "source": [
    "# Plot these data at year 0\n",
    "yr = 0\n",
    "r = monthly_runoff.sel(time=yr)\n",
    "p = tot_precip.sel(time=yr)\n",
    "\n",
    "f, ax = plt.subplots(figsize=(10, 6));\n",
    "r.plot(ax=ax, color='C3', label='Monthly runoff', linewidth=3);\n",
    "p.plot(ax=ax, color='C0', label='Monthly precipitation', linewidth=3);\n",
    "ax.fill_between(r.month_2d, r, p, where=(p >= r), facecolor='C0', interpolate=True, alpha=0.5)\n",
    "ax.fill_between(r.month_2d, r, p, where=(r > p), facecolor='C3', interpolate=True, alpha=0.5)\n",
    "plt.ylabel('Mt yr$^{-1}$'); plt.legend(loc='best');\n",
    "plt.xlabel('Month'); plt.title(f'Total monthly runoff and precipitation at year {yr}');"
   ]
  },
  {
   "cell_type": "markdown",
   "metadata": {},
   "source": [
    "Al comienzo de la simulación, el glaciar está en equilibrio y su contribución anual a la escorrentía es cero. De hecho, esto significa que el área azul en el gráfico de arriba es igual al área roja: **la cuenca glaciada libera agua durante el verano, que se acumula en forma de nieve en los meses de invierno**.\n",
    "En esta región (Alpes Ötztal, Austria), las precipitaciones son relativamente constantes durante todo el año. **Discutir cuáles podrían ser las implicaciones en otros climas del mundo, en particular en climas con una fuerte estacionalidad de las precipitaciones.**"
   ]
  },
  {
   "cell_type": "markdown",
   "metadata": {},
   "source": [
    "Ahora echemos un vistazo al cambio estacional en la escorrentía con el tiempo:"
   ]
  },
  {
   "cell_type": "code",
   "execution_count": null,
   "metadata": {},
   "outputs": [],
   "source": [
    "f, ax = plt.subplots(figsize=(10, 6));\n",
    "cmap = sns.color_palette('magma', 3)\n",
    "for i, yr in enumerate([0, 120, 300]):\n",
    "    monthly_runoff.sel(time=yr).plot(ax=ax, color=cmap[i], label=f'Year {yr}')\n",
    "plt.ylabel('Mt yr$^{-1}$'); plt.legend(loc='best');\n",
    "plt.xlabel('Month'); plt.title('Total monthly runoff change with time');"
   ]
  },
  {
   "cell_type": "markdown",
   "metadata": {},
   "source": [
    "**Preguntas para explorar:**\n",
    "- verifique que la escorrentía anual sea la misma en el año 0 que en el año 300. ¿Qué cambió en el medio?\n",
    "- ¿Cuál es el responsable del cambio de derretimiento de verano a derretimiento de primavera?\n",
    "- ¿Cómo cambia la escorrentía en el \"pico de agua\" (aprox. año 120)?\n",
    "- discutir las implicaciones de este cambio en la estacionalidad para Hintereisferner y para otras regiones del mundo.\n",
    "**Ahora repite este cuaderno (idealmente copiándolo primero) con otras regiones del mundo, donde el clima puede ser muy diferente. **\n",
    "Tenga en cuenta que nuestras explicaciones son muy específicas del glaciar. Entonces, si cambia el glaciar usando otro rgi_id, ¡es posible que también deba adaptar las explicaciones!\n",
    "**¡También puedes cambiar los parámetros de las simulaciones!**\n",
    "¿Qué sucede cuando el cambio de temperatura es más grande/más rápido, más pequeño/más lento? ¿Cuáles son las implicaciones para el \"pico de agua\"?"
   ]
  },
  {
   "cell_type": "markdown",
   "metadata": {},
   "source": [
    "## Terminando"
   ]
  },
  {
   "cell_type": "markdown",
   "metadata": {},
   "source": [
    "Ahora concluyamos este cuaderno reproduciendo la famosa trama de [Huss & Hock (2018)](https://www.nature.com/articles/s41558-017-0049-x) con nuestros datos.\n",
    "<img src=\"https://raw.githubusercontent.com/OGGM/oggm-edu/master/docs/_static/fig_huss_hock.jpg\" width=\"700px\" alt=\"Figura 1 de https://www.nature. com/articulos/s41558-017-0049-x\">\n",
    "*Gráfico de [Huss & Hock (2018)](https://www.nature.com/articles/s41558-017-0049-x)*"
   ]
  },
  {
   "cell_type": "code",
   "execution_count": null,
   "metadata": {},
   "outputs": [],
   "source": [
    "# Make a dataframe out of the xarray dataset for simplicity\n",
    "df_monthly_runoff = pd.DataFrame(monthly_runoff.data, index=ds.time, columns=monthly_runoff.month_2d)\n",
    "\n",
    "# Create new columns for each season (we define seasons from the perspective of the northern Hemisphere)\n",
    "df_monthly_runoff['Spring (Apr-Jun)'] = df_monthly_runoff[[4, 5, 6]].sum(axis=1)\n",
    "df_monthly_runoff['Summer (Jul-Sep)'] = df_monthly_runoff[[7, 8, 9]].sum(axis=1)\n",
    "df_monthly_runoff['Winter (Oct-Mar)'] = df_monthly_runoff[[10, 11, 12, 1, 2, 3]].sum(axis=1)\n",
    "df_monthly_runoff.columns.name = 'Season'\n",
    "\n",
    "# Plot it\n",
    "# Attention the seasons and labels might need to be adapted if a glacier in a different region is used!\n",
    "f, ax = plt.subplots(figsize=(10, 6));\n",
    "df_monthly_runoff[['Spring (Apr-Jun)', 'Summer (Jul-Sep)', 'Winter (Oct-Mar)']].plot.area(ax=ax, color=sns.color_palette('rocket'));\n",
    "plt.xlabel('Years'); plt.ylabel('Runoff (Mt)'); plt.title('Runoff by season');"
   ]
  },
  {
   "cell_type": "markdown",
   "metadata": {},
   "source": [
    "Y ahora la trama real:"
   ]
  },
  {
   "cell_type": "code",
   "execution_count": null,
   "metadata": {},
   "outputs": [],
   "source": [
    "f, (ax1, ax2) = plt.subplots(2, 1, gridspec_kw={'height_ratios': [2, 1]}, figsize=(10, 8), sharex=True)\n",
    "\n",
    "p1 = df_monthly_runoff[['Spring (Apr-Jun)', 'Summer (Jul-Sep)', 'Winter (Oct-Mar)']].sum(axis=1)\n",
    "p2 = df_monthly_runoff['Summer (Jul-Sep)'] # July to September is here the melt season\n",
    "p1.plot(ax=ax1, color='C0', label='Annual runoff', linewidth=3)\n",
    "p2.plot(ax=ax1, color='C3', label='Melt-season runoff', linewidth=3);\n",
    "ax1.hlines([p1.loc[0], p2.loc[0]], 0, 300, color=['C0', 'C3'], linestyle=[':']);\n",
    "ax1.legend(); ax1.set_xlabel(''); ax1.set_ylabel('Runoff (Mt)');\n",
    "\n",
    "(temp_bias_ts + 2).plot(ax=ax2, color='C2', label='Temperature', linewidth=3);\n",
    "ax2.legend(loc='lower right'); ax2.set_xlabel('Years'); ax2.set_ylabel('$\\Delta T (°C)$');\n",
    "sns.despine();"
   ]
  },
  {
   "cell_type": "markdown",
   "metadata": {},
   "source": [
    "Tenga en cuenta que las dos gráficas anteriores son muy específicas del glaciar. Si usa un glaciar con otro clima, es posible que deba adaptar las gráficas, porque siempre estamos interesados ​​en aquellos meses en los que la escorrentía del glaciar contribuye más a la escorrentía total. Ejemplo dado, para Artesonraju en Perú, estamos más interesados ​​en junio, julio, agosto y septiembre ya que esta es la estación seca, donde casi no llueve."
   ]
  },
  {
   "cell_type": "markdown",
   "metadata": {},
   "source": [
    "## Llévate puntos a casa"
   ]
  },
  {
   "cell_type": "markdown",
   "metadata": {},
   "source": [
    "- Los glaciares en equilibrio *no* son recursos hídricos netos: ganan tanta masa como liberan\n",
    "- Sin embargo, tienen un papel amortiguador estacional, liberando agua durante los meses de deshielo.\n",
    "- Cuando los glaciares se derriten, se convierten en recursos hídricos netos. El \"pico de agua\" es el momento en el que el suministro de deshielo de los glaciares alcanza su máximo, es decir, cuando se produce la máxima escorrentía."
   ]
  },
  {
   "cell_type": "markdown",
   "metadata": {},
   "source": [
    "## Referencias"
   ]
  },
  {
   "cell_type": "markdown",
   "metadata": {},
   "source": [
    "- Huss, M. y Hock, R.: Respuesta hidrológica a escala mundial a la futura pérdida de masa de los glaciares, Nat. Clima Chang., 8(2), 135–140, [doi:10.1038/s41558-017-0049-x](https://doi.org/10.1038/s41558-017-0049-x), 2018.\n",
    "- Un [recent blog post](https://blogs.egu.eu/divisions/cr/2021/03/05/glaciers-water-supply-climate-change/) sobre el papel de los glaciares en el ciclo hidrológico"
   ]
  },
  {
   "cell_type": "markdown",
   "metadata": {},
   "source": [
    "## ¿Que sigue?"
   ]
  },
  {
   "cell_type": "markdown",
   "metadata": {},
   "source": [
    "xx_markdown_enlace_xx"
   ]
  }
 ],
 "metadata": {
  "hide_input": false,
  "kernelspec": {
   "display_name": "Python 3",
   "language": "python",
   "name": "python3"
  },
  "language_info": {
   "codemirror_mode": {
    "name": "ipython",
    "version": 3
   },
   "file_extension": ".py",
   "mimetype": "text/x-python",
   "name": "python",
   "nbconvert_exporter": "python",
   "pygments_lexer": "ipython3",
   "version": "3.7.4"
  },
  "toc": {
   "base_numbering": 1,
   "nav_menu": {},
   "number_sections": false,
   "sideBar": true,
   "skip_h1_title": true,
   "title_cell": "Table of Contents",
   "title_sidebar": "Contents",
   "toc_cell": false,
   "toc_position": {},
   "toc_section_display": true,
   "toc_window_display": false
  }
 },
 "nbformat": 4,
 "nbformat_minor": 4
}
