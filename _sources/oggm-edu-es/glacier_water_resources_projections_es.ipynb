{
 "cells": [
  {
   "cell_type": "markdown",
   "metadata": {},
   "source": [
    "# Los glaciares como recursos hídricos: parte 2 (proyecciones)"
   ]
  },
  {
   "cell_type": "markdown",
   "metadata": {},
   "source": [
    "Objetivos de este cuaderno:\n",
    "- ejecutar simulaciones utilizando proyecciones climáticas para explorar el papel de los glaciares como recursos hídricos"
   ]
  },
  {
   "cell_type": "markdown",
   "metadata": {},
   "source": [
    "## Preparando el escenario: la escorrentía de los glaciares y el \"pico de agua\""
   ]
  },
  {
   "cell_type": "markdown",
   "metadata": {},
   "source": [
    "¡Recomendamos enfáticamente ejecutar [Parte 1](glacier_water_resources_es.ipynb) de este cuaderno antes de continuar!"
   ]
  },
  {
   "cell_type": "markdown",
   "metadata": {},
   "source": [
    "## Configuración"
   ]
  },
  {
   "cell_type": "code",
   "execution_count": null,
   "metadata": {},
   "outputs": [],
   "source": [
    "import matplotlib.pyplot as plt\n",
    "import seaborn as sns\n",
    "%matplotlib inline\n",
    "sns.set_context('notebook')"
   ]
  },
  {
   "cell_type": "code",
   "execution_count": null,
   "metadata": {},
   "outputs": [],
   "source": [
    "# One interactive plot below requires Bokeh\n",
    "# The rest of the notebook works without this dependency\n",
    "import holoviews as hv\n",
    "hv.extension('bokeh')\n",
    "import geoviews as gv\n",
    "import geoviews.tile_sources as gts"
   ]
  },
  {
   "cell_type": "code",
   "execution_count": null,
   "metadata": {},
   "outputs": [],
   "source": [
    "# Temporarily ignore warnings from shapely\n",
    "import warnings\n",
    "from shapely.errors import ShapelyDeprecationWarning\n",
    "warnings.filterwarnings('ignore', category=ShapelyDeprecationWarning)"
   ]
  },
  {
   "cell_type": "code",
   "execution_count": null,
   "metadata": {},
   "outputs": [],
   "source": [
    "import xarray as xr\n",
    "import salem\n",
    "import numpy as np\n",
    "import pandas as pd"
   ]
  },
  {
   "cell_type": "code",
   "execution_count": null,
   "metadata": {},
   "outputs": [],
   "source": [
    "import oggm.cfg\n",
    "from oggm import utils, workflow, tasks, graphics"
   ]
  },
  {
   "cell_type": "code",
   "execution_count": null,
   "metadata": {},
   "outputs": [],
   "source": [
    "# OGGM options\n",
    "oggm.cfg.initialize(logging_level='WARNING')\n",
    "oggm.cfg.PATHS['working_dir'] = utils.gettempdir(dirname='WaterResources')\n",
    "oggm.cfg.PARAMS['min_ice_thick_for_length'] = 1  # a glacier is when ice thicker than 1m\n",
    "oggm.cfg.PARAMS['store_model_geometry'] = True"
   ]
  },
  {
   "cell_type": "markdown",
   "metadata": {},
   "source": [
    "### Definir el glaciar con el que jugaremos"
   ]
  },
  {
   "cell_type": "markdown",
   "metadata": {},
   "source": [
    "Para este cuaderno usamos Hintereisferner, Austria. Algunas otras posibilidades para jugar:\n",
    "-Hintereisferner, Austria: RGI60-11.00897\n",
    "- Artesonraju, Peru: RGI60-16.02444\n",
    "-Rikha Samba, Nepal: RGI60-15.04847\n",
    "-Parlung No. 94, China: RGI60-15.11693\n",
    "Y prácticamente cualquier glaciar en el que pueda encontrar el RGI Id, p. en el [GLIMS viewer](https://www.glims.org/maps/glims)! Sin embargo, los grandes glaciares pueden necesitar simulaciones más largas para ver los cambios. Para parámetros de calibración menos inciertos, también recomendamos elegir uno de los muchos glaciares de referencia [GLIMS viewer](https://www.glims.org/maps/glims), donde nos aseguramos de que las observaciones del balance de masa coincidan mejor.\n",
    "Comencemos primero con Hintereisferner y al final de este cuaderno se le invitará a probar su glaciar favorito."
   ]
  },
  {
   "cell_type": "code",
   "execution_count": null,
   "metadata": {},
   "outputs": [],
   "source": [
    "# Hintereisferner\n",
    "rgi_id = 'RGI60-11.00897'"
   ]
  },
  {
   "cell_type": "markdown",
   "metadata": {},
   "source": [
    "## Preparando los datos del glaciar"
   ]
  },
  {
   "cell_type": "markdown",
   "metadata": {},
   "source": [
    "Esto puede tardar unos minutos en la primera llamada debido a la descarga de los datos necesarios:"
   ]
  },
  {
   "cell_type": "code",
   "execution_count": null,
   "metadata": {},
   "outputs": [],
   "source": [
    "# We pick the elevation-bands glaciers because they run a bit faster - but they create more step changes in the area outputs\n",
    "base_url = 'https://cluster.klima.uni-bremen.de/~oggm/gdirs/oggm_v1.4/L3-L5_files/CRU/elev_bands/qc3/pcp2.5/no_match'\n",
    "gdir = workflow.init_glacier_directories([rgi_id], from_prepro_level=5, prepro_border=80, prepro_base_url=base_url)[0]"
   ]
  },
  {
   "cell_type": "markdown",
   "metadata": {},
   "source": [
    "## Mapa glaciar interactivo"
   ]
  },
  {
   "cell_type": "markdown",
   "metadata": {},
   "source": [
    "Un primer vistazo al glaciar de interés.\n",
    "*Sugerencia: puede usar el mouse para desplazarse y hacer zoom en el mapa*"
   ]
  },
  {
   "cell_type": "code",
   "execution_count": null,
   "metadata": {},
   "outputs": [],
   "source": [
    "sh = salem.transform_geopandas(gdir.read_shapefile('outlines'))\n",
    "(gv.Polygons(sh).opts(fill_color=None, color_index=None) *\n",
    " gts.tile_sources['EsriImagery'] * gts.tile_sources['StamenLabels']).opts(width=800, height=500, active_tools=['pan', 'wheel_zoom'])"
   ]
  },
  {
   "cell_type": "markdown",
   "metadata": {},
   "source": [
    "Para OGGM, los glaciares tienen una dimensión de \"1,5\" a lo largo de su línea de flujo:"
   ]
  },
  {
   "cell_type": "code",
   "execution_count": null,
   "metadata": {},
   "outputs": [],
   "source": [
    "fls = gdir.read_pickle('model_flowlines')\n",
    "graphics.plot_modeloutput_section(fls);"
   ]
  },
  {
   "cell_type": "markdown",
   "metadata": {},
   "source": [
    "## \"Ejecución de compromiso\""
   ]
  },
  {
   "cell_type": "markdown",
   "metadata": {},
   "source": [
    "Ahora estamos listos para ejecutar nuestra primera simulación. Esta es la llamada \"ejecución de compromiso\": ¿cuánta pérdida de hielo está \"ya comprometida\" para este glaciar, incluso si el cambio climático se detuviera hoy? Este es un experimento útil pero puramente teórico: el cambio climático no se detendrá hoy, desafortunadamente. Para obtener más información sobre la pérdida de masa comprometida a escala global, lea [Marzeion et al., 2018](https://www.nature.com/articles/s41558-018-0093-1).\n",
    "Aquí, ejecutamos una simulación durante 100 años con un clima constante basado en los últimos 11 años:"
   ]
  },
  {
   "cell_type": "code",
   "execution_count": null,
   "metadata": {},
   "outputs": [],
   "source": [
    "# file identifier where the model output is saved\n",
    "file_id = '_ct'\n",
    "\n",
    "# We are using the task run_with_hydro to store hydrological outputs along with the usual glaciological outputs\n",
    "tasks.run_with_hydro(gdir,\n",
    "                     run_task=tasks.run_constant_climate,  # which climate? See below for other examples\n",
    "                     nyears=100,  # length of the simulation\n",
    "                     y0=2014, halfsize=5,  # For the constant climate, period over which the climate is taken from\n",
    "                     store_monthly_hydro=True,  # Monthly ouptuts provide additional information\n",
    "                     output_filesuffix=file_id);  # an identifier for the output file to read it later"
   ]
  },
  {
   "cell_type": "markdown",
   "metadata": {},
   "source": [
    "Entonces podemos echar un vistazo a la salida:"
   ]
  },
  {
   "cell_type": "code",
   "execution_count": null,
   "metadata": {},
   "outputs": [],
   "source": [
    "with xr.open_dataset(gdir.get_filepath('model_diagnostics', filesuffix=file_id)) as ds:\n",
    "    # The last step of hydrological output is NaN (we can't compute it for this year)\n",
    "    ds = ds.isel(time=slice(0, -1)).load()"
   ]
  },
  {
   "cell_type": "markdown",
   "metadata": {},
   "source": [
    "¡Hay muchas variables en este conjunto de datos! Podemos enumerarlos con:"
   ]
  },
  {
   "cell_type": "code",
   "execution_count": null,
   "metadata": {},
   "outputs": [],
   "source": [
    "ds"
   ]
  },
  {
   "cell_type": "markdown",
   "metadata": {},
   "source": [
    "*Consejo: puede hacer clic en una variable y mostrar su atributo con el botón \"página\" a la derecha.*\n",
    "Las variables `time` y `month_2d` son coordenadas, y las otras variables se proporcionan como información adicional (por ejemplo, `calendar_month`, volveremos a esto), o proporcionan los datos reales. Por ejemplo, podemos trazar la evolución anual del volumen y longitud de nuestro glaciar:"
   ]
  },
  {
   "cell_type": "code",
   "execution_count": null,
   "metadata": {},
   "outputs": [],
   "source": [
    "fig, axs = plt.subplots(nrows=2, figsize=(10, 7), sharex=True)\n",
    "ds.volume_m3.plot(ax=axs[0]);\n",
    "ds.length_m.plot(ax=axs[1]);\n",
    "axs[0].set_xlabel(''); axs[0].set_title(f'{rgi_id}'); axs[1].set_xlabel('Years');"
   ]
  },
  {
   "cell_type": "markdown",
   "metadata": {},
   "source": [
    "La longitud y el volumen del glaciar disminuyen durante los primeros ~40 años de la simulación: esta es la fase de **retroceso del glaciar**. Posteriormente, tanto la longitud como el volumen oscilan en torno a un valor más o menos constante indicando que el glaciar ha **alcanzado el equilibrio**. La diferencia entre el volumen inicial y el volumen de equilibrio se denomina **pérdida de masa comprometida**. Puede ser bastante alto en los Alpes y depende de muchos factores (como el tamaño del glaciar, la ubicación y el período climático de referencia),"
   ]
  },
  {
   "cell_type": "markdown",
   "metadata": {},
   "source": [
    "### escurrimiento anual"
   ]
  },
  {
   "cell_type": "markdown",
   "metadata": {},
   "source": [
    "A medida que los glaciares retroceden, contribuyen al aumento del nivel del mar (¡visite la aplicación [World Glaciers Explorer](https://edu.oggm.org/en/latest/explorer.html) OGGM-Edu para obtener más información!). Esto no es lo que nos interesa aquí. De hecho, también tendrán impactos locales importantes: en este cuaderno, veremos su impacto en el flujo de agua.\n",
    "Echemos un vistazo a algunos de los resultados hidrológicos calculados por OGGM. Comenzamos creando un DataFrame de pandas de todas las variables \"1D\" (anuales):"
   ]
  },
  {
   "cell_type": "code",
   "execution_count": null,
   "metadata": {},
   "outputs": [],
   "source": [
    "sel_vars = [v for v in ds.variables if 'month_2d' not in ds[v].dims]\n",
    "df_annual = ds[sel_vars].to_dataframe()"
   ]
  },
  {
   "cell_type": "markdown",
   "metadata": {},
   "source": [
    "Luego podemos seleccionar las variables hidrológicas y sumarlas para obtener la escorrentía total anual:"
   ]
  },
  {
   "cell_type": "code",
   "execution_count": null,
   "metadata": {},
   "outputs": [],
   "source": [
    "# Select only the runoff variables\n",
    "runoff_vars = ['melt_off_glacier', 'melt_on_glacier', 'liq_prcp_off_glacier', 'liq_prcp_on_glacier']\n",
    "# Convert them to megatonnes (instead of kg)\n",
    "df_runoff = df_annual[runoff_vars] * 1e-9\n",
    "fig, ax = plt.subplots(figsize=(10, 3.5), sharex=True)\n",
    "df_runoff.sum(axis=1).plot(ax=ax);\n",
    "plt.ylabel('Mt'); plt.xlabel('Years'); plt.title(f'Total annual runoff for {rgi_id}');"
   ]
  },
  {
   "cell_type": "markdown",
   "metadata": {},
   "source": [
    "Las variables hidrológicas se calculan sobre la mayor área posible cubierta por hielo glaciar durante la simulación. Esto es equivalente a la escorrentía que se mediría en una estación hidrológica de calibre fijo en el extremo del glaciar.\n",
    "La escorrentía total anual consta de los siguientes componentes:\n",
    "- fusión fuera del glaciar: la nieve se derrite en áreas que ahora están libres de glaciares (es decir, 0 en el año de mayor extensión del glaciar, en este ejemplo al comienzo de la simulación)\n",
    "- derretimiento en el glaciar: hielo + nieve estacional derretida en el glaciar\n",
    "- precipitación líquida dentro y fuera del glaciar (esta última siendo cero en el año de mayor extensión glacial, en este ejemplo al comienzo de la simulación)"
   ]
  },
  {
   "cell_type": "code",
   "execution_count": null,
   "metadata": {},
   "outputs": [],
   "source": [
    "f, ax = plt.subplots(figsize=(10, 6));\n",
    "df_runoff.plot.area(ax=ax, color=sns.color_palette(\"rocket\")); plt.xlabel('Years'); plt.ylabel('Runoff (Mt)'); plt.title(rgi_id);"
   ]
  },
  {
   "cell_type": "markdown",
   "metadata": {},
   "source": [
    "Antes de continuar, recordemos la contribución esperada de los glaciares a la escorrentía.\n",
    "<img src=\"https://raw.githubusercontent.com/OGGM/oggm-edu/master/docs/_static/fig_huss_hock.jpg\" width=\"700px\" alt=\"Figura 1 de https://www.nature. com/articulos/s41558-017-0049-x\">\n",
    "*Gráfico de [Huss & Hock (2018)](https://www.nature.com/articles/s41558-017-0049-x)*\n",
    "**Preguntas para explorar:**\n",
    "- **¿Dónde aproximadamente en este gráfico se encuentra el glaciar estudiado?**\n",
    "- **¿Puedes explicar la contribución relativa de cada componente, con base en el cuaderno anterior?**"
   ]
  },
  {
   "cell_type": "markdown",
   "metadata": {},
   "source": [
    "La escorrentía total de la cuenca de un glaciar es la suma de las cuatro contribuciones anteriores. Para mostrar que la contribución total del glaciar es de hecho cero ($\\Delta M = 0$) **cuando está en equilibrio**, podemos calcularlo a partir del cambio de masa del glaciar:"
   ]
  },
  {
   "cell_type": "code",
   "execution_count": null,
   "metadata": {},
   "outputs": [],
   "source": [
    "glacier_mass = ds.volume_m3.to_series() * oggm.cfg.PARAMS['ice_density'] * 1e-9  # In Megatonnes, Mt\n",
    "\n",
    "glacier_mass.diff().plot()\n",
    "plt.axhline(y=0, color='k', ls=':')\n",
    "plt.ylabel('Annual glacier mass change (Mt yr$^{-1}$)')\n",
    "plt.xlabel('Years'); plt.title('Glacier contribution to annual runoff');"
   ]
  },
  {
   "cell_type": "markdown",
   "metadata": {},
   "source": [
    "¡Tenga en cuenta que esto no significa que el hielo no se esté derritiendo! En equilibrio, esto significa que el hielo que se derrite cada año sobre el glaciar es reemplazado por nieve en el área de acumulación del glaciar. Esto ilustra bien que **los glaciares en equilibrio no son recursos hídricos netos en promedio anual**: en el transcurso del año ganan tanta masa como liberan."
   ]
  },
  {
   "cell_type": "markdown",
   "metadata": {},
   "source": [
    "### escorrentía mensual"
   ]
  },
  {
   "cell_type": "markdown",
   "metadata": {},
   "source": [
    "Las variables \"2D\" contienen los mismos datos pero a resolución mensual, con la dimensión (tiempo, mes). Por ejemplo, la escorrentía se puede calcular\n",
    "mismo camino:"
   ]
  },
  {
   "cell_type": "code",
   "execution_count": null,
   "metadata": {},
   "outputs": [],
   "source": [
    "# Select only the runoff variables and convert them to megatonnes (instead of kg)\n",
    "monthly_runoff = (ds['melt_off_glacier_monthly'] + ds['melt_on_glacier_monthly'] +\n",
    "                  ds['liq_prcp_off_glacier_monthly'] + ds['liq_prcp_on_glacier_monthly'])\n",
    "monthly_runoff *= 1e-9\n",
    "monthly_runoff.clip(0).plot(cmap='Blues', cbar_kwargs={'label': 'Mt'}); plt.xlabel('Months'); plt.ylabel('Years');"
   ]
  },
  {
   "cell_type": "markdown",
   "metadata": {},
   "source": [
    "Pero tenga en cuenta que algo está un poco mal con esto: las coordenadas son meses hidrológicos; mejoremos esto:"
   ]
  },
  {
   "cell_type": "code",
   "execution_count": null,
   "metadata": {},
   "outputs": [],
   "source": [
    "# This should work in both hemispheres maybe?\n",
    "ds_roll = ds.roll(month_2d=ds['calendar_month_2d'].data[0] - 1, roll_coords=True)\n",
    "ds_roll['month_2d'] = ds_roll['calendar_month_2d']\n",
    "\n",
    "# Select only the runoff variables and convert them to megatonnes (instead of kg)\n",
    "monthly_runoff = (ds_roll['melt_off_glacier_monthly'] + ds_roll['melt_on_glacier_monthly'] +\n",
    "                  ds_roll['liq_prcp_off_glacier_monthly'] + ds_roll['liq_prcp_on_glacier_monthly'])\n",
    "monthly_runoff *= 1e-9\n",
    "monthly_runoff.clip(0).plot(cmap='Blues', cbar_kwargs={'label': 'Mt'}); plt.xlabel('Months'); plt.ylabel('Years');"
   ]
  },
  {
   "cell_type": "markdown",
   "metadata": {},
   "source": [
    "Como podemos ver, la escorrentía es aproximadamente cero durante los meses de invierno, mientras que es relativamente alta durante los meses de verano. Esto implica que el glaciar es una fuente de agua en el verano cuando libera el agua acumulada en el invierno.\n",
    "El ciclo anual cambia a medida que el glaciar retrocede:"
   ]
  },
  {
   "cell_type": "code",
   "execution_count": null,
   "metadata": {},
   "outputs": [],
   "source": [
    "monthly_runoff.sel(time=[0, 30, 99]).plot(hue='time');\n",
    "plt.title('Annual cycle');\n",
    "plt.xlabel('Month');\n",
    "plt.ylabel('Runoff (Mt)');"
   ]
  },
  {
   "cell_type": "markdown",
   "metadata": {},
   "source": [
    "No solo disminuye la escorrentía total durante los meses de verano a medida que avanza la simulación, sino que el mes de máxima escorrentía también se cambia a principios del verano."
   ]
  },
  {
   "cell_type": "markdown",
   "metadata": {},
   "source": [
    "### Ejecuciones de proyección CMIP5\n",
    "Ahora ha aprendido a simular y analizar un glaciar específico bajo un clima constante. Ahora daremos un paso más y simularemos dos glaciares diferentes, ubicados en diferentes regiones climáticas, forzados con las proyecciones climáticas de CMIP5.\n",
    "Comenzamos inicializando los directorios de los glaciares:"
   ]
  },
  {
   "cell_type": "code",
   "execution_count": null,
   "metadata": {},
   "outputs": [],
   "source": [
    "# We keep Hintereisferner from earlier, but also add a new glacier\n",
    "rgi_ids = [rgi_id, 'RGI60-15.02420']"
   ]
  },
  {
   "cell_type": "code",
   "execution_count": null,
   "metadata": {},
   "outputs": [],
   "source": [
    "gdirs = workflow.init_glacier_directories(rgi_ids, from_prepro_level=5, prepro_border=80, prepro_base_url=base_url)"
   ]
  },
  {
   "cell_type": "markdown",
   "metadata": {},
   "source": [
    "`gdirs` ahora contiene dos glaciares, uno en Europa Central y otro en los Himalayas Orientales:"
   ]
  },
  {
   "cell_type": "code",
   "execution_count": null,
   "metadata": {},
   "outputs": [],
   "source": [
    "gdirs"
   ]
  },
  {
   "cell_type": "markdown",
   "metadata": {},
   "source": [
    "Podemos echar un vistazo rápido al nuevo glaciar:"
   ]
  },
  {
   "cell_type": "code",
   "execution_count": null,
   "metadata": {},
   "outputs": [],
   "source": [
    "sh = salem.transform_geopandas(gdirs[1].read_shapefile('outlines'))\n",
    "(gv.Polygons(sh).opts(fill_color=None, color_index=None) *\n",
    " gts.tile_sources['EsriImagery'] * gts.tile_sources['StamenLabels']).opts(width=800, height=500, active_tools=['pan', 'wheel_zoom'])"
   ]
  },
  {
   "cell_type": "markdown",
   "metadata": {},
   "source": [
    "#### Reducción climática\n",
    "Antes de ejecutar nuestra simulación, tenemos que procesar los datos climáticos del glaciar i.i.e. reducir la escala: (Esto puede llevar algún tiempo)"
   ]
  },
  {
   "cell_type": "code",
   "execution_count": null,
   "metadata": {},
   "outputs": [],
   "source": [
    "from oggm.shop import gcm_climate\n",
    "bp = 'https://cluster.klima.uni-bremen.de/~oggm/cmip5-ng/pr/pr_mon_CCSM4_{}_r1i1p1_g025.nc'\n",
    "bt = 'https://cluster.klima.uni-bremen.de/~oggm/cmip5-ng/tas/tas_mon_CCSM4_{}_r1i1p1_g025.nc'\n",
    "for rcp in ['rcp26', 'rcp45', 'rcp60', 'rcp85']:\n",
    "    # Download the files\n",
    "    ft = utils.file_downloader(bt.format(rcp))\n",
    "    fp = utils.file_downloader(bp.format(rcp))\n",
    "    workflow.execute_entity_task(gcm_climate.process_cmip_data, gdirs,\n",
    "                                 # Name file to recognize it later\n",
    "                                 filesuffix='_CCSM4_{}'.format(rcp),\n",
    "                                 # temperature projections\n",
    "                                 fpath_temp=ft,\n",
    "                                 # precip projections\n",
    "                                 fpath_precip=fp,\n",
    "                                 );"
   ]
  },
  {
   "cell_type": "markdown",
   "metadata": {},
   "source": [
    "#### Ejecución de proyección\n",
    "Con la reducción de escala completa, podemos ejecutar las simulaciones forzadas:"
   ]
  },
  {
   "cell_type": "code",
   "execution_count": null,
   "metadata": {},
   "outputs": [],
   "source": [
    "for rcp in ['rcp26', 'rcp45', 'rcp60', 'rcp85']:\n",
    "    rid = '_CCSM4_{}'.format(rcp)\n",
    "    workflow.execute_entity_task(tasks.run_with_hydro, gdirs,\n",
    "                                 run_task=tasks.run_from_climate_data, ys=2020,\n",
    "                                 # use gcm_data, not climate_historical\n",
    "                                 climate_filename='gcm_data',\n",
    "                                 # use the chosen scenario\n",
    "                                 climate_input_filesuffix=rid,\n",
    "                                 # this is important! Start from 2020 glacier\n",
    "                                 init_model_filesuffix='_historical',\n",
    "                                 # recognize the run for later\n",
    "                                 output_filesuffix=rid,\n",
    "                                 # add monthly diagnostics\n",
    "                                 store_monthly_hydro=True);"
   ]
  },
  {
   "cell_type": "code",
   "execution_count": null,
   "metadata": {},
   "outputs": [],
   "source": [
    "# Create the figure\n",
    "f, ax = plt.subplots(figsize=(18, 7), sharex=True)\n",
    "# Loop over all scenarios\n",
    "for i, rcp in enumerate(['rcp26', 'rcp45', 'rcp60', 'rcp85']):\n",
    "    file_id = f'_CCSM4_{rcp}'\n",
    "    # Open the data, gdirs[0] correspond to Hintereisferner.\n",
    "    with xr.open_dataset(gdirs[0].get_filepath('model_diagnostics', filesuffix=file_id)) as ds:\n",
    "        # Load the data into a dataframe\n",
    "        ds = ds.isel(time=slice(0, -1)).load()\n",
    "\n",
    "    # Select annual variables\n",
    "    sel_vars = [v for v in ds.variables if 'month_2d' not in ds[v].dims]\n",
    "    # And create a dataframe\n",
    "    df_annual = ds[sel_vars].to_dataframe()\n",
    "\n",
    "    # Select the variables relevant for runoff.\n",
    "    runoff_vars = ['melt_off_glacier', 'melt_on_glacier', 'liq_prcp_off_glacier', 'liq_prcp_on_glacier']\n",
    "    # Convert to mega tonnes instead of kg.\n",
    "    df_runoff = df_annual[runoff_vars].clip(0) * 1e-9\n",
    "    # Sum the variables each year \"axis=1\", take the 11 year rolling mean\n",
    "    # and plot it.\n",
    "    df_runoff.sum(axis=1).rolling(window=11).mean().plot(ax=ax, label=rcp, color=sns.color_palette(\"rocket\")[i])\n",
    "\n",
    "ax.set_ylabel('Annual runoff (Mt)'); ax.set_xlabel('Year'); plt.title(gdirs[1].rgi_id); plt.legend();"
   ]
  },
  {
   "cell_type": "markdown",
   "metadata": {},
   "source": [
    "Para Hintereisferner, la escorrentía continúa disminuyendo a lo largo del siglo XXI para todos los escenarios, lo que indica que el **pico de agua** ya se alcanzó en algún momento del pasado. Este es el caso de muchos glaciares europeos. ¿Qué pasa con nuestro glaciar sin nombre en el Himalaya?"
   ]
  },
  {
   "cell_type": "code",
   "execution_count": null,
   "metadata": {},
   "outputs": [],
   "source": [
    "# Create the figure\n",
    "f, ax = plt.subplots(figsize=(18, 7), sharex=True)\n",
    "# Loop over all scenarios\n",
    "for i, rcp in enumerate(['rcp26', 'rcp45', 'rcp60', 'rcp85']):\n",
    "    file_id = f'_CCSM4_{rcp}'\n",
    "    # Open the data, gdirs[1] correspond to the unnamed glacier.\n",
    "    with xr.open_dataset(gdirs[1].get_filepath('model_diagnostics', filesuffix=file_id)) as ds:\n",
    "        # Load the data into a dataframe\n",
    "        ds = ds.isel(time=slice(0, -1)).load()\n",
    "\n",
    "    # Select annual variables\n",
    "    sel_vars = [v for v in ds.variables if 'month_2d' not in ds[v].dims]\n",
    "    # And create a dataframe\n",
    "    df_annual = ds[sel_vars].to_dataframe()\n",
    "\n",
    "    # Select the variables relevant for runoff.\n",
    "    runoff_vars = ['melt_off_glacier', 'melt_on_glacier',\n",
    "                   'liq_prcp_off_glacier', 'liq_prcp_on_glacier']\n",
    "    # Convert to mega tonnes instead of kg.\n",
    "    df_runoff = df_annual[runoff_vars].clip(0) * 1e-9\n",
    "    # Sum the variables each year \"axis=1\", take the 11 year rolling mean\n",
    "    # and plot it.\n",
    "    df_runoff.sum(axis=1).rolling(window=11).mean().plot(ax=ax, label=rcp, color=sns.color_palette(\"rocket\")[i])\n",
    "\n",
    "ax.set_ylabel('Annual runoff (Mt)'); ax.set_xlabel('Year'); plt.title(rgi_id); plt.legend();"
   ]
  },
  {
   "cell_type": "markdown",
   "metadata": {},
   "source": [
    "A diferencia de Hintereisferner, estas proyecciones indican que la escorrentía anual aumentará en todos los escenarios para la primera mitad del siglo. Los escenarios de RCP más altos pueden alcanzar el **pico de agua** más adelante en el siglo, ya que el exceso de derretimiento puede seguir aumentando. Por otro lado, para los escenarios de RCP más bajos, el glaciar podría estar acercándose a un nuevo equilibrio, lo que reduce la escorrentía a principios de siglo ([Rounce et. al., 2020](https://www.frontiersin.org/articles/10.3389/feart.2019.00331/full)). Después de alcanzar el **pico de agua** (RCP2.6: ~2055, RCP8.5: ~2070 en estas proyecciones), la escorrentía anual comienza a disminuir. Esta disminución se debe a que el glaciar que se encoge ya no puede soportar los altos niveles de derretimiento."
   ]
  },
  {
   "cell_type": "markdown",
   "metadata": {},
   "source": [
    "## ¿Otra ejecución de proyección con sesgo de temperatura o precipitación?\n",
    "TAREAS: incluya algo sobre cómo el sesgo de temperatura afecta el tamaño del glaciar y la producción de agua de deshielo."
   ]
  },
  {
   "cell_type": "markdown",
   "metadata": {},
   "source": [
    "## Llévate puntos a casa"
   ]
  },
  {
   "cell_type": "markdown",
   "metadata": {},
   "source": [
    "- Los glaciares en equilibrio *no* son recursos hídricos netos: ganan tanta masa como liberan durante un año.\n",
    "- Sin embargo, tienen una función amortiguadora estacional: liberan agua durante los meses de deshielo.\n",
    "- El tamaño de un glaciar influye en la disponibilidad de agua aguas abajo durante la estación seca. El impacto es más importante si la temporada de derretimiento (cálida) coincide con la estación seca (ver [Kaser et al., 2010](https://www.pnas.org/content/107/47/20223)).\n",
    "- Cuando los glaciares se derriten, se convierten en recursos hídricos netos a lo largo del año. El \"pico de agua\" es el momento en el que el suministro de deshielo de los glaciares alcanza su máximo, es decir, cuando se produce la máxima escorrentía."
   ]
  },
  {
   "cell_type": "markdown",
   "metadata": {},
   "source": [
    "## Referencias"
   ]
  },
  {
   "cell_type": "markdown",
   "metadata": {},
   "source": [
    "- Kaser, G., Großhauser, M. y Marzeion, B.: Potencial de contribución de los glaciares a la disponibilidad de agua en diferentes regímenes climáticos, PNAS, 07 (47) 20223-20227, [doi:10.1073/pnas.1008162107](https://doi.org/10.1073/pnas.1008162107), 2010\n",
    "- Huss, M. y Hock, R.: Respuesta hidrológica a escala mundial a la futura pérdida de masa de los glaciares, Nat. Clima Chang., 8(2), 135–140, [doi:10.1038/s41558-017-0049-x](https://doi.org/10.1038/s41558-017-0049-x), 2018.\n",
    "- Marzeion, B., Kaser, G., Maussion, F. y Champollion, N.: Influencia limitada de la mitigación del cambio climático en la pérdida de masa glaciar a corto plazo, Nat. Clima Chang., 8, [doi:10.1038/s41558-018-0093-1](https://doi.org/10.1038/s41558-018-0093-1), 2018.\n",
    "- Rounce, D. R., Hock, R., McNabb, R. W., Millan, R., Sommer, C., Braun, M. H., Malz, P., Maussion, F., Mouginot, J., Seehaus, T. C. y Shean, D. E. : Las estimaciones del espesor de los escombros globales distribuidos revelan que los escombros tienen un impacto significativo en el balance de masa de los glaciares, Geophys. Res. Lett., [doi:10.1029/2020GL091311](https://doi.org/10.1029/2020GL091311), 2021."
   ]
  },
  {
   "cell_type": "markdown",
   "metadata": {},
   "source": [
    "## ¿Que sigue?"
   ]
  },
  {
   "cell_type": "markdown",
   "metadata": {},
   "source": [
    "xx_markdown_enlace_xx"
   ]
  }
 ],
 "metadata": {
  "hide_input": false,
  "kernelspec": {
   "display_name": "Python 3 (ipykernel)",
   "language": "python",
   "name": "python3"
  },
  "language_info": {
   "codemirror_mode": {
    "name": "ipython",
    "version": 3
   },
   "file_extension": ".py",
   "mimetype": "text/x-python",
   "name": "python",
   "nbconvert_exporter": "python",
   "pygments_lexer": "ipython3",
   "version": "3.8.5"
  },
  "toc": {
   "base_numbering": 1,
   "nav_menu": {},
   "number_sections": false,
   "sideBar": true,
   "skip_h1_title": true,
   "title_cell": "Table of Contents",
   "title_sidebar": "Contents",
   "toc_cell": false,
   "toc_position": {},
   "toc_section_display": true,
   "toc_window_display": false
  }
 },
 "nbformat": 4,
 "nbformat_minor": 4
}
