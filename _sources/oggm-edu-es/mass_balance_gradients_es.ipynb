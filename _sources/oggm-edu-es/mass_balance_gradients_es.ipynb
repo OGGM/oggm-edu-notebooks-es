{
 "cells": [
  {
   "cell_type": "markdown",
   "metadata": {},
   "source": [
    "# Gradientes de balance de masa (MBG) y su influencia en el flujo glaciar"
   ]
  },
  {
   "cell_type": "markdown",
   "metadata": {},
   "source": [
    "En el cuaderno de introducción, mencionamos brevemente el gradiente de balance de masa de un glaciar. Esto es lo que vamos a echar un vistazo más de cerca ahora.\n",
    "Si el concepto de balance de masa es completamente nuevo para usted, lea brevemente sobre él [aqui](http://www.antarcticglaciers.org/glacier-processes/introduction-glacier-mass-balance/), hasta el párrafo \"*Entonces, ¿qué es el balance de masa de glaciares?*\".\n",
    "En este cuaderno, configuraremos algunos glaciares simples para explorar más a fondo qué características de los glaciares cambian con diferentes gradientes de balance de masa. También veremos los temas de volumen y tiempo de respuesta."
   ]
  },
  {
   "cell_type": "markdown",
   "metadata": {},
   "source": [
    "Objetivos de este cuaderno:\n",
    "- El estudiante será capaz de explicar los términos:\n",
    "- Gradiente de balance de masa,\n",
    "- Estado de equilibrio\n",
    "- Tiempo de respuesta."
   ]
  },
  {
   "cell_type": "markdown",
   "metadata": {},
   "source": [
    "Primero, tenemos que importar las clases relevantes"
   ]
  },
  {
   "cell_type": "code",
   "execution_count": null,
   "metadata": {},
   "outputs": [],
   "source": [
    "from oggm_edu import MassBalance, GlacierBed, Glacier, GlacierCollection"
   ]
  },
  {
   "cell_type": "markdown",
   "metadata": {},
   "source": [
    "## Inicializando el glaciar\n",
    "Comenzamos configurando un glaciar simple con un lecho rocoso lineal (ver [edu_intro](edu_intro_es.ipynb)) para generar un punto de partida para nuestro experimento."
   ]
  },
  {
   "cell_type": "code",
   "execution_count": null,
   "metadata": {},
   "outputs": [],
   "source": [
    "# Bed\n",
    "bed = GlacierBed(top=3400, bottom=1500, width=400)\n",
    "# Mass balance\n",
    "mass_balance = MassBalance(ela=3000, gradient=4)\n",
    "# Glacier\n",
    "glacier = Glacier(bed=bed, mass_balance=mass_balance)"
   ]
  },
  {
   "cell_type": "markdown",
   "metadata": {},
   "source": [
    "## Cambiando el gradiente de balance de masa (MBG)\n",
    "El MBG se define como el cambio del balance de masa con altitud [¹](#References). Depende en gran medida del clima en el glaciar [¹](#References).\n",
    "Echemos un vistazo a los efectos del MBG creando algunos glaciares con diferentes gradientes. En el cuaderno de introducción, nuestro glaciar tenía una pendiente de 4 mm/m, así que agreguemos un glaciar con una pendiente más débil y otro con una pendiente más fuerte.\n",
    "Volveremos a hacer uso de `GlacierCollection` para progresar rápidamente y visualizar los glaciares."
   ]
  },
  {
   "cell_type": "code",
   "execution_count": null,
   "metadata": {},
   "outputs": [],
   "source": [
    "collection = GlacierCollection()\n",
    "# Fill the collection. This time we change the attributes on creation.\n",
    "collection.fill(glacier, n=3, attributes_to_change=\n",
    "                {'gradient':[0.3, 4, 15]}\n",
    "               )"
   ]
  },
  {
   "cell_type": "markdown",
   "metadata": {},
   "source": [
    "### Creación de un perfil de balance de masa complejo\n",
    "También es posible crear un perfil de balance de masa más complejo.\n",
    "Esto se logra pasando una lista de gradientes y otra lista con la altitud de los puntos de ruptura entre ellos."
   ]
  },
  {
   "cell_type": "code",
   "execution_count": null,
   "metadata": {},
   "outputs": [],
   "source": [
    "# Add complex mb profile\n",
    "complex_mb = MassBalance(ela=3000, gradient=[3, 7, 10, 15],\n",
    "                         breakpoints=[2700, 2250, 1800])\n",
    "glacier_complex_mb = Glacier(bed=bed, mass_balance=complex_mb)"
   ]
  },
  {
   "cell_type": "code",
   "execution_count": null,
   "metadata": {},
   "outputs": [],
   "source": [
    "# Add the new glacier to the collection.\n",
    "collection.add(glacier_complex_mb)"
   ]
  },
  {
   "cell_type": "code",
   "execution_count": null,
   "metadata": {},
   "outputs": [],
   "source": [
    "# Progress collection to the same year.\n",
    "collection.progress_to_year(300)"
   ]
  },
  {
   "cell_type": "code",
   "execution_count": null,
   "metadata": {},
   "outputs": [],
   "source": [
    "collection.plot()"
   ]
  },
  {
   "cell_type": "code",
   "execution_count": null,
   "metadata": {},
   "outputs": [],
   "source": [
    "collection.plot_mass_balance()"
   ]
  },
  {
   "cell_type": "markdown",
   "metadata": {},
   "source": [
    "Un gradiente de balance de masa más fuerte (línea más plana en el gráfico anterior) implica un cambio mayor del balance de masa con la altitud.\n",
    "Podemos ver esto en el gráfico anterior: el balance de masa anual apenas cambia con la altitud para el glaciar con el gradiente de balance de masa más débil (azul), mientras que hay una diferencia considerable entre el balance de masa anual superior e inferior para el glaciar con la masa más fuerte. gradiente de equilibrio (verde).\n",
    "Esto a su vez afecta el crecimiento del glaciar.\n",
    "Un fuerte gradiente de balance de masa implica que se agrega más hielo a la zona de acumulación mientras que se extrae más hielo de la zona de ablación cada año en comparación con un glaciar con un gradiente más débil.\n",
    "Esto da como resultado un mayor flujo de hielo y, por lo tanto, el glaciar crece más rápido.\n",
    "Esta es la razón por la cual el glaciar con el gradiente más fuerte exhibe el mayor crecimiento durante nuestros experimentos (Glaciar verde en el gráfico de colección arriba).\n",
    "<div class=\"alerta alerta-éxito\">\n",
    "<detalles><summary><b>¿Qué opinas? ¿Dónde encontramos glaciares con altos MBG?</b> <i>Haz clic para obtener más detalles</i></summary>\n",
    "Encontrará una breve explicación en este [paragraph](http://www.antarcticglaciers.org/modern-glaciers/introduction-glacier-mass-balance/#SECTION_3) en AntarcticGlaciers.org.\n",
    "</div>"
   ]
  },
  {
   "cell_type": "markdown",
   "metadata": {},
   "source": [
    "## Estado de equilibrio"
   ]
  },
  {
   "cell_type": "markdown",
   "metadata": {},
   "source": [
    "Los glaciares cambian su geometría como una forma de adaptarse al clima[³](#References). Si la acumulación aumenta, el glaciar crecerá más abajo del ELA para aumentar la ablación. De manera similar, si la temperatura aumenta y la ablación aumenta, la longitud del glaciar disminuirá.\n",
    "Si el clima permanece constante durante un tiempo suficiente, los glaciares alcanzarán un estado de equilibrio con su clima, donde la acumulación = ablación [⁴](#References).\n",
    "Con esto en mente, veremos qué tan rápido nuestros glaciares, con diferentes gradientes, alcanzan este estado y compararemos sus formas:"
   ]
  },
  {
   "cell_type": "code",
   "execution_count": null,
   "metadata": {},
   "outputs": [],
   "source": [
    "# We reset the collection.\n",
    "collection = GlacierCollection()\n",
    "# Fill the collection. This time we change the attributes on creation.\n",
    "collection.fill(glacier, n=3, attributes_to_change=\n",
    "                {'gradient':[0.3, 4, 15]}\n",
    "               )"
   ]
  },
  {
   "cell_type": "code",
   "execution_count": null,
   "metadata": {},
   "outputs": [],
   "source": [
    "# First we progress the glaciers to equilibrium.\n",
    "collection.progress_to_equilibrium()"
   ]
  },
  {
   "cell_type": "code",
   "execution_count": null,
   "metadata": {},
   "outputs": [],
   "source": [
    "# Plot it\n",
    "collection.plot()"
   ]
  },
  {
   "cell_type": "markdown",
   "metadata": {},
   "source": [
    "Los diferentes glaciares alcanzan su estado de equilibrio después de un número diferente de años. ¿Qué nos muestra la figura? ¿Qué glaciar es el más grueso y largo? Veamos números específicos:"
   ]
  },
  {
   "cell_type": "code",
   "execution_count": null,
   "metadata": {},
   "outputs": [],
   "source": [
    "collection"
   ]
  },
  {
   "cell_type": "markdown",
   "metadata": {},
   "source": [
    "El glaciar con el gradiente más fuerte alcanza primero el estado de equilibrio. Este es también el glaciar más grande y más largo."
   ]
  },
  {
   "cell_type": "markdown",
   "metadata": {},
   "source": [
    "## Tiempo de respuesta\n",
    "El tiempo de respuesta del glaciar es el período de tiempo que necesita un glaciar para ajustar su geometría a los cambios en el balance de masa causados ​​por el cambio climático y alcanzar un nuevo estado de equilibrio.\n",
    "Hay algunas definiciones diferentes para su cálculo, OGGM-Edu usa la definición de Oerlemans (vea la fórmula a continuación) [⁵](#References).\n",
    "Un glaciar OGGM-Edu tiene un atributo `.response_time` que se calcula en función de la diferencia entre los dos últimos estados de equilibrio en la historia del glaciar.\n",
    "Hasta ahora solo te hemos mostrado cómo hacer progresar un glaciar hasta el equilibrio, pero no cómo dejarlo y llegar a un segundo.\n",
    "Este será el primer paso para obtener el tiempo de respuesta de un glaciar.\n",
    "Usamos el glaciar desde el comienzo del cuaderno."
   ]
  },
  {
   "cell_type": "code",
   "execution_count": null,
   "metadata": {},
   "outputs": [],
   "source": [
    "# Check the state, everything should be zero/nan here.\n",
    "glacier"
   ]
  },
  {
   "cell_type": "markdown",
   "metadata": {},
   "source": [
    "Primero progresamos el glaciar al equilibrio"
   ]
  },
  {
   "cell_type": "code",
   "execution_count": null,
   "metadata": {},
   "outputs": [],
   "source": [
    "glacier.progress_to_equilibrium()"
   ]
  },
  {
   "cell_type": "code",
   "execution_count": null,
   "metadata": {},
   "outputs": [],
   "source": [
    "glacier.plot()"
   ]
  },
  {
   "cell_type": "markdown",
   "metadata": {},
   "source": [
    "Podemos acceder a los estados de equilibrio almacenados de un glaciar"
   ]
  },
  {
   "cell_type": "code",
   "execution_count": null,
   "metadata": {},
   "outputs": [],
   "source": [
    "glacier.eq_states"
   ]
  },
  {
   "cell_type": "markdown",
   "metadata": {},
   "source": [
    "Ahora queremos establecer un escenario de cambio climático para el glaciar.\n",
    "Esto se hace fácilmente con el método `.add_temperature_bias`.\n",
    "Este método toma un sesgo de temperatura deseado ($+/-$) y una duración, que especifica cuánto tardará el glaciar en alcanzar el estado climático.\n",
    "Por ejemplo, si establecemos el sesgo en 1 y la duración en 50, el clima tardará 50 años en calentarse 1 grado.\n",
    "Cuando un glaciar tiene un escenario de cambio climático, los métodos `progress_` funcionarán internamente de manera un poco diferente, pero esto no es algo que notará.\n",
    "Dado que estamos puramente interesados ​​en la respuesta del glaciar, creamos un escenario de cambio climático con una duración de 1 año."
   ]
  },
  {
   "cell_type": "code",
   "execution_count": null,
   "metadata": {},
   "outputs": [],
   "source": [
    "# Add a climate change scenario\n",
    "glacier.add_temperature_bias(bias=1., duration=1)"
   ]
  },
  {
   "cell_type": "markdown",
   "metadata": {},
   "source": [
    "<div class=\"alerta alerta-éxito\">\n",
    "<detalles><resumen><b>\n",
    "¿Cómo responde el ELA si elevamos la temperatura?</b> <i>Haga clic para obtener una pista</i></summary>\n",
    "El aumento de la temperatura aumentará el tamaño del área de ablación del glaciar y, por lo tanto, aumentará la ELA.\n",
    "</detalles>\n",
    "</div>"
   ]
  },
  {
   "cell_type": "code",
   "execution_count": null,
   "metadata": {},
   "outputs": [],
   "source": [
    "# We can then progress the glacier to equilibrium again\n",
    "glacier.progress_to_equilibrium()"
   ]
  },
  {
   "cell_type": "code",
   "execution_count": null,
   "metadata": {},
   "outputs": [],
   "source": [
    "glacier.plot()"
   ]
  },
  {
   "cell_type": "code",
   "execution_count": null,
   "metadata": {},
   "outputs": [],
   "source": [
    "glacier.eq_states"
   ]
  },
  {
   "cell_type": "markdown",
   "metadata": {},
   "source": [
    "El siguiente paso es calcular los tiempos de respuesta de nuestros glaciares. Uno podría pensar que es tan simple como mirar los años anteriores y hacer una simple resta. ¡Sin embargo, éste no es el caso! En realidad, la velocidad a la que cambia un glaciar es cada vez menor y nunca se alcanza realmente un estado de equilibrio completo. Debido a esto, el tiempo de respuesta se considera el tiempo que le ha tomado al glaciar completar la mayor parte del ajuste, más específicamente todo menos un factor de $1/e$.\n",
    "Para modelos numéricos como nuestros glaciares, es común usar [volume response time](https://www.tandfonline.com/doi/pdf/10.1080/00040851.1997.12003238?needAccess=true), de Oerlemans [volume response time](https://www.tandfonline.com/doi/pdf/10.1080/00040851.1997.12003238?needAccess=true):\n",
    "$$\n",
    "\\tau = t \\left(V=V_2 - \\frac{V_2 - V_1}{e}\\right)\n",
    "$$\n",
    "donde $V_1$ y $V_2$ corresponden al volumen del glaciar en el estado de equilibrio inicial y nuevo respectivamente.\n",
    "Afortunadamente, esto lo hace nuestro objeto glaciar, por lo que solo podemos echar un vistazo al atributo `.response_time`"
   ]
  },
  {
   "cell_type": "code",
   "execution_count": null,
   "metadata": {},
   "outputs": [],
   "source": [
    "glacier.response_time"
   ]
  },
  {
   "cell_type": "markdown",
   "metadata": {},
   "source": [
    "o simplemente mira la representación"
   ]
  },
  {
   "cell_type": "code",
   "execution_count": null,
   "metadata": {},
   "outputs": [],
   "source": [
    "glacier"
   ]
  },
  {
   "cell_type": "markdown",
   "metadata": {},
   "source": [
    "Ahora que hemos introducido el concepto de tiempo de respuesta, podemos aplicarlo y ver cómo los diferentes gradientes de balance de masa afectan el tiempo de respuesta.\n",
    "Para ello necesitamos una nueva colección."
   ]
  },
  {
   "cell_type": "code",
   "execution_count": null,
   "metadata": {},
   "outputs": [],
   "source": [
    "# Bed\n",
    "bed = GlacierBed(top=3400, bottom=1500, width=400)\n",
    "# Mass balance\n",
    "mass_balance = MassBalance(ela=3000, gradient=4)\n",
    "# Glacier\n",
    "glacier = Glacier(bed=bed, mass_balance=mass_balance)"
   ]
  },
  {
   "cell_type": "code",
   "execution_count": null,
   "metadata": {},
   "outputs": [],
   "source": [
    "collection = GlacierCollection()\n",
    "# Fill the collection. This time we change the attributes on creation.\n",
    "collection.fill(glacier, n=3, attributes_to_change=\n",
    "                {'gradient':[1, 4, 15]}\n",
    "               )"
   ]
  },
  {
   "cell_type": "code",
   "execution_count": null,
   "metadata": {},
   "outputs": [],
   "source": [
    "collection.progress_to_equilibrium()"
   ]
  },
  {
   "cell_type": "code",
   "execution_count": null,
   "metadata": {},
   "outputs": [],
   "source": [
    "collection"
   ]
  },
  {
   "cell_type": "markdown",
   "metadata": {},
   "source": [
    "Luego tenemos que configurar un escenario de cambio climático para los glaciares en la colección."
   ]
  },
  {
   "cell_type": "code",
   "execution_count": null,
   "metadata": {},
   "outputs": [],
   "source": [
    "# Same scenario for all the glaciers.\n",
    "collection.glaciers[0].add_temperature_bias(bias=1., duration=1)\n",
    "collection.glaciers[1].add_temperature_bias(bias=1., duration=1)\n",
    "collection.glaciers[2].add_temperature_bias(bias=1., duration=1)"
   ]
  },
  {
   "cell_type": "code",
   "execution_count": null,
   "metadata": {},
   "outputs": [],
   "source": [
    "# Progress to equilibrium again\n",
    "collection.progress_to_equilibrium()"
   ]
  },
  {
   "cell_type": "code",
   "execution_count": null,
   "metadata": {},
   "outputs": [],
   "source": [
    "collection"
   ]
  },
  {
   "cell_type": "code",
   "execution_count": null,
   "metadata": {},
   "outputs": [],
   "source": [
    "collection.plot_history()"
   ]
  },
  {
   "cell_type": "markdown",
   "metadata": {},
   "source": [
    "También podemos mirar la historia del estado de uno de los glaciares."
   ]
  },
  {
   "cell_type": "code",
   "execution_count": null,
   "metadata": {},
   "outputs": [],
   "source": [
    "# Plots the glacier outline for the equilibrium states.\n",
    "collection.glaciers[0].plot_state_history(eq_states=True)"
   ]
  },
  {
   "cell_type": "markdown",
   "metadata": {},
   "source": [
    "El glaciar con MBG más débil necesita más tiempo para adaptarse a un cambio climático en comparación con los otros glaciares. Por otro lado, el glaciar con el gradiente más fuerte solo necesita alrededor de dos décadas para ajustar su forma al nuevo clima (Un ejemplo del mundo real: el glaciar Franz Josef en Nueva Zelanda[⁶](#References))[⁶](#References). El tiempo de respuesta de los glaciares con gradientes débiles es en realidad mucho más largo que 200 años, en realidad más cercano a 2000 años.\n",
    "<div class=\"alerta alerta-éxito\">\n",
    "<detalles><resumen><b>¿Por qué la MBG cambia el tiempo de respuesta de un glaciar? ¿Qué otros factores, además del MBG, cree que afectan el tiempo de respuesta de un glaciar?</b> <i>Haga clic en mí para obtener una pista</i></summary>\n",
    "El MBG afecta la rapidez con la que fluirá el glaciar y, a su vez, la rapidez con la que puede cambiar la forma y el tamaño del glaciar. En general, debemos considerar que el tiempo de respuesta también depende de otras características como el tipo de glaciar, el tamaño, la pendiente del fondo y la elevación promedio de la superficie.\n",
    "</detalles>\n",
    "</div>\n"
   ]
  },
  {
   "cell_type": "markdown",
   "metadata": {},
   "source": [
    "## Referencias\n",
    "¹ Rasmussen, L. A. y Andreassen, L. M. (2005). Gradientes estacionales de balance de masa en Noruega. *Revista de Glaciología*, 51(175), 601-606.\n",
    "² Oerlemans, J. y Fortuin, J. P. F. (1992). Sensibilidad de los glaciares y pequeños casquetes polares al efecto invernadero. *Ciencia, 258(5079)*, 115-117.\n",
    "³Oerlemans, J. (2001). *Glaciares y cambio climático*. Prensa CRC.\n",
    "⁴ Enciclopedia de nieve, hielo y glaciares, V.P. Singh, P. Singh y U.K. Haritashya, Editores. 2011, Springer: Dordrecht, Países Bajos. pags. 245-256.\n",
    "⁵ Oerlemans, J. (1997). Sensibilidad climática del glaciar Franz Josef, Nueva Zelanda, según lo revelado por el modelado numérico. *Investigación sobre el Ártico y los Alpes*, 29(2), 233-239.\n",
    "⁶ Anderson, B., Lawson, W. y Owens, I. (2008). Respuesta del glaciar Franz Josef Ka Roimata o Hine Hukatere al cambio climático. Cambio Global y Planetario, 63(1), 23-30.\n",
    "⁷ Cuffey, K. M. y Paterson, WSB *La Física de los Glaciares, 4ª edición*, 704 (Academic Press, 2010).\n"
   ]
  },
  {
   "cell_type": "markdown",
   "metadata": {},
   "source": [
    "## ¿Que sigue?"
   ]
  },
  {
   "cell_type": "markdown",
   "metadata": {},
   "source": [
    "xx_markdown_enlace_xx"
   ]
  }
 ],
 "metadata": {
  "hide_input": false,
  "kernelspec": {
   "display_name": "Python 3 (ipykernel)",
   "language": "python",
   "name": "python3"
  },
  "language_info": {
   "codemirror_mode": {
    "name": "ipython",
    "version": 3
   },
   "file_extension": ".py",
   "mimetype": "text/x-python",
   "name": "python",
   "nbconvert_exporter": "python",
   "pygments_lexer": "ipython3",
   "version": "3.8.5"
  },
  "toc": {
   "base_numbering": 1,
   "nav_menu": {},
   "number_sections": false,
   "sideBar": true,
   "skip_h1_title": true,
   "title_cell": "Table of Contents",
   "title_sidebar": "Contents",
   "toc_cell": false,
   "toc_position": {},
   "toc_section_display": true,
   "toc_window_display": false
  }
 },
 "nbformat": 4,
 "nbformat_minor": 4
}
